{
 "cells": [
  {
   "cell_type": "markdown",
   "id": "f16308f6",
   "metadata": {
    "papermill": {
     "duration": 0.013095,
     "end_time": "2023-07-18T22:01:04.716262",
     "exception": false,
     "start_time": "2023-07-18T22:01:04.703167",
     "status": "completed"
    },
    "tags": []
   },
   "source": [
    "# About the Company\n",
    "In 2016, Cyclistic launched a successful bike-share offering. Since then, the program has grown to a fleet of 5,824 bicycles that are geotracked and locked into a network of 692 stations across Chicago. The bikes can be unlocked from one station and returned to any other station in the system anytime.\n",
    "\n",
    "Until now, Cyclistic’s marketing strategy relied on building general awareness and appealing to broad consumer segments. One approach that helped make these things possible was the flexibility of its pricing plans: single-ride passes, full-day passes, and annual memberships. Customers who purchase single-ride or full-day passes are referred to as casual riders. Customers who purchase annual memberships are Cyclistic members.\n",
    "\n",
    "Cyclistic’s finance analysts have concluded that annual members are much more profitable than casual riders. Although the pricing flexibility helps Cyclistic attract more customers, Moreno believes that maximizing the number of annual members will be key to future growth. Rather than creating a marketing campaign that targets all-new customers, Moreno believes there is a very good chance to convert casual riders into members. She notes that casual riders are already aware of the Cyclistic program and have chosen Cyclistic for their mobility needs.\n",
    "\n",
    "Moreno has set a clear goal: Design marketing strategies aimed at converting casual riders into annual members. In order to do that, however, the marketing analyst team needs to better understand how annual members and casual riders differ, why casual riders would buy a membership, and how digital media could affect their marketing tactics. Moreno and her team are interested in analyzing the Cyclistic historical bike trip data to identify trends.\n",
    "\n",
    "# Scenerio\n",
    "As a junior data analyst at Cyclistic, a bike-share company in Chicago, your team's objective is to analyze the usage patterns of casual riders and annual members to devise a marketing strategy that converts casual riders into annual members. To gain approval from Cyclistic executives, your recommendations need to be supported by compelling data insights and professional data visualization. The company's future success hinges on maximizing annual memberships, making this analysis crucial for Cyclistic's marketing team.\n",
    "\n",
    "**This project will be completed by using the 6 Data Analytics stages:**\n",
    "\n",
    "Ask: Identify the business task and determine the key stakeholders.\n",
    "Prepare: Collect the data, identify how it’s organized, determine the credibility of the data.\n",
    "Process: Select the tool for data cleaning, check for errors and document the cleaning process.\n",
    "Analyze: Organize and format the data, aggregate the data so that it’s useful, perform calculations and identify trends and relationships.\n",
    "Share: Use design thinking principles and data-driven storytelling approach, present the findings with effective visualization. Ensure the analysis has answered the business task.\n",
    "Act: Share the final conclusion and the recommendations.\n",
    "\n",
    "## Phase 1: Ask\n",
    "**Business Task**\n",
    "\n",
    "As an analyst on the team, I will conduct a comprehensive analysis of the data to identify meaningful trends and insights related to the distinctions between annual members and casual riders. The primary objective is to gain a deep understanding of the factors that motivate casual riders to purchase a membership and leveraging this knowledge, to contribute to the development of data-driven marketing strategies that effectively target and convert casual riders into annual members, thereby driving growth for Cyclistic.\n",
    "\n",
    "**Three questions will guide the future marketing program:**\n",
    "\n",
    "How do annual members and casual riders use Cyclistic bikes differently?\n",
    "Why would casual riders buy Cyclistic annual memberships?\n",
    "How can Cyclistic use digital media to influence casual riders to become members?\n",
    "\n",
    "**Key Stakeholders**\n",
    "\n",
    "Lily Moreno - Director of Marketing\n",
    "Cyclistic Marketing Analytics Team\n",
    "Cyclistic Executive Team\n",
    "\n",
    "## Phase 2: Prepare\n",
    "The data required for analysis was provided by Google itself. However, it was already uploaded onto kaggle under the datasets \"Cyclistic_Bike_Share_Apr_22-Mar_23\", \"Cyclistic Bike-Share / May 2022 though April 2023\", \"Cyclistic Ride Share May 2020- May 2023\". The data has been updated regularly, and adheres to the principle of ROCCC (Reliable, Original, Current, Comprehensive, and Cited). The dataset encompasses the latest 12 month period, ranging from June 2022 - May 2023.\n",
    "\n",
    "**Data Preperation** \n",
    "Firstly, we'll import the datasets so it can be merged into one file and data cleaning and analysis can be conducted easily"
   ]
  },
  {
   "cell_type": "code",
   "execution_count": 1,
   "id": "376ed29a",
   "metadata": {
    "execution": {
     "iopub.execute_input": "2023-07-18T22:01:04.742911Z",
     "iopub.status.busy": "2023-07-18T22:01:04.740252Z",
     "iopub.status.idle": "2023-07-18T22:01:05.978725Z",
     "shell.execute_reply": "2023-07-18T22:01:05.976865Z"
    },
    "papermill": {
     "duration": 1.255139,
     "end_time": "2023-07-18T22:01:05.981969",
     "exception": false,
     "start_time": "2023-07-18T22:01:04.726830",
     "status": "completed"
    },
    "tags": []
   },
   "outputs": [
    {
     "name": "stderr",
     "output_type": "stream",
     "text": [
      "── \u001b[1mAttaching core tidyverse packages\u001b[22m ──────────────────────── tidyverse 2.0.0 ──\n",
      "\u001b[32m✔\u001b[39m \u001b[34mdplyr    \u001b[39m 1.1.2     \u001b[32m✔\u001b[39m \u001b[34mreadr    \u001b[39m 2.1.4\n",
      "\u001b[32m✔\u001b[39m \u001b[34mforcats  \u001b[39m 1.0.0     \u001b[32m✔\u001b[39m \u001b[34mstringr  \u001b[39m 1.5.0\n",
      "\u001b[32m✔\u001b[39m \u001b[34mggplot2  \u001b[39m 3.4.2     \u001b[32m✔\u001b[39m \u001b[34mtibble   \u001b[39m 3.2.1\n",
      "\u001b[32m✔\u001b[39m \u001b[34mlubridate\u001b[39m 1.9.2     \u001b[32m✔\u001b[39m \u001b[34mtidyr    \u001b[39m 1.3.0\n",
      "\u001b[32m✔\u001b[39m \u001b[34mpurrr    \u001b[39m 1.0.1     \n",
      "── \u001b[1mConflicts\u001b[22m ────────────────────────────────────────── tidyverse_conflicts() ──\n",
      "\u001b[31m✖\u001b[39m \u001b[34mdplyr\u001b[39m::\u001b[32mfilter()\u001b[39m masks \u001b[34mstats\u001b[39m::filter()\n",
      "\u001b[31m✖\u001b[39m \u001b[34mdplyr\u001b[39m::\u001b[32mlag()\u001b[39m    masks \u001b[34mstats\u001b[39m::lag()\n",
      "\u001b[36mℹ\u001b[39m Use the conflicted package (\u001b[3m\u001b[34m<http://conflicted.r-lib.org/>\u001b[39m\u001b[23m) to force all conflicts to become errors\n"
     ]
    }
   ],
   "source": [
    "# Loading the libraries\n",
    "\n",
    "library(tidyverse)\n",
    "library(dplyr)\n",
    "library(ggplot2)\n",
    "library(lubridate)"
   ]
  },
  {
   "cell_type": "code",
   "execution_count": 2,
   "id": "225ac3d1",
   "metadata": {
    "execution": {
     "iopub.execute_input": "2023-07-18T22:01:06.041145Z",
     "iopub.status.busy": "2023-07-18T22:01:06.007246Z",
     "iopub.status.idle": "2023-07-18T22:01:06.064921Z",
     "shell.execute_reply": "2023-07-18T22:01:06.063004Z"
    },
    "papermill": {
     "duration": 0.075473,
     "end_time": "2023-07-18T22:01:06.068308",
     "exception": false,
     "start_time": "2023-07-18T22:01:05.992835",
     "status": "completed"
    },
    "tags": []
   },
   "outputs": [],
   "source": [
    "# Changing Working Directory\n",
    "setwd(\"/kaggle/input/cyclistic-bike-share-apr-22-mar-23/New folder\")"
   ]
  },
  {
   "cell_type": "code",
   "execution_count": 3,
   "id": "d6ecbc62",
   "metadata": {
    "execution": {
     "iopub.execute_input": "2023-07-18T22:01:06.093844Z",
     "iopub.status.busy": "2023-07-18T22:01:06.092187Z",
     "iopub.status.idle": "2023-07-18T22:03:01.629691Z",
     "shell.execute_reply": "2023-07-18T22:03:01.627672Z"
    },
    "papermill": {
     "duration": 115.553922,
     "end_time": "2023-07-18T22:03:01.632981",
     "exception": false,
     "start_time": "2023-07-18T22:01:06.079059",
     "status": "completed"
    },
    "tags": []
   },
   "outputs": [],
   "source": [
    "# Loading the dataframes\n",
    "June_2022 <- read.csv(\"Chic_bike_Jun_22.csv\")\n",
    "July_2022 <- read.csv(\"Chic_bike_Jul_22.csv\")\n",
    "August_2022 <- read.csv(\"Chic_bike_Aug_22.csv\")\n",
    "September_2022 <- read.csv(\"Chic_bike_Sep_22.csv\")\n",
    "October_2022 <- read.csv(\"Chic_bike_Oct_22.csv\")\n",
    "November_2022 <- read.csv(\"Chic_bike_Nov_22.csv\")\n",
    "December_2022 <- read.csv(\"Chic_bike_Dec_22.csv\")\n",
    "January_2023 <- read.csv(\"Chic_bike_Jan_23.csv\")\n",
    "February_2023 <- read.csv(\"Chic_bike_Feb_23.csv\")\n",
    "March_2023 <- read.csv(\"Chic_bike_Mar_23.csv\")\n",
    "April_2023 <- read.csv(\"/kaggle/input/cyclistic-bike-share-may-2022-though-april-2023/202304-divvy-tripdata.csv\")\n",
    "May_2023 <- read.csv(file(\"/kaggle/input/cyclistic-ride-share-may-2020-may-2023/202305-divvy-tripdata/202305-divvy-tripdata.csv\"))"
   ]
  },
  {
   "cell_type": "code",
   "execution_count": 4,
   "id": "581cc7bf",
   "metadata": {
    "_kg_hide-output": true,
    "execution": {
     "iopub.execute_input": "2023-07-18T22:03:01.662170Z",
     "iopub.status.busy": "2023-07-18T22:03:01.660510Z",
     "iopub.status.idle": "2023-07-18T22:03:02.034855Z",
     "shell.execute_reply": "2023-07-18T22:03:02.032650Z"
    },
    "papermill": {
     "duration": 0.390401,
     "end_time": "2023-07-18T22:03:02.037631",
     "exception": false,
     "start_time": "2023-07-18T22:03:01.647230",
     "status": "completed"
    },
    "tags": []
   },
   "outputs": [
    {
     "data": {
      "text/html": [
       "<style>\n",
       ".list-inline {list-style: none; margin:0; padding: 0}\n",
       ".list-inline>li {display: inline-block}\n",
       ".list-inline>li:not(:last-child)::after {content: \"\\00b7\"; padding: 0 .5ex}\n",
       "</style>\n",
       "<ol class=list-inline><li>'ride_id'</li><li>'rideable_type'</li><li>'started_at'</li><li>'ended_at'</li><li>'start_station_name'</li><li>'start_station_id'</li><li>'end_station_name'</li><li>'end_station_id'</li><li>'start_lat'</li><li>'start_lng'</li><li>'end_lat'</li><li>'end_lng'</li><li>'member_casual'</li></ol>\n"
      ],
      "text/latex": [
       "\\begin{enumerate*}\n",
       "\\item 'ride\\_id'\n",
       "\\item 'rideable\\_type'\n",
       "\\item 'started\\_at'\n",
       "\\item 'ended\\_at'\n",
       "\\item 'start\\_station\\_name'\n",
       "\\item 'start\\_station\\_id'\n",
       "\\item 'end\\_station\\_name'\n",
       "\\item 'end\\_station\\_id'\n",
       "\\item 'start\\_lat'\n",
       "\\item 'start\\_lng'\n",
       "\\item 'end\\_lat'\n",
       "\\item 'end\\_lng'\n",
       "\\item 'member\\_casual'\n",
       "\\end{enumerate*}\n"
      ],
      "text/markdown": [
       "1. 'ride_id'\n",
       "2. 'rideable_type'\n",
       "3. 'started_at'\n",
       "4. 'ended_at'\n",
       "5. 'start_station_name'\n",
       "6. 'start_station_id'\n",
       "7. 'end_station_name'\n",
       "8. 'end_station_id'\n",
       "9. 'start_lat'\n",
       "10. 'start_lng'\n",
       "11. 'end_lat'\n",
       "12. 'end_lng'\n",
       "13. 'member_casual'\n",
       "\n",
       "\n"
      ],
      "text/plain": [
       " [1] \"ride_id\"            \"rideable_type\"      \"started_at\"        \n",
       " [4] \"ended_at\"           \"start_station_name\" \"start_station_id\"  \n",
       " [7] \"end_station_name\"   \"end_station_id\"     \"start_lat\"         \n",
       "[10] \"start_lng\"          \"end_lat\"            \"end_lng\"           \n",
       "[13] \"member_casual\"     "
      ]
     },
     "metadata": {},
     "output_type": "display_data"
    },
    {
     "data": {
      "text/html": [
       "<style>\n",
       ".list-inline {list-style: none; margin:0; padding: 0}\n",
       ".list-inline>li {display: inline-block}\n",
       ".list-inline>li:not(:last-child)::after {content: \"\\00b7\"; padding: 0 .5ex}\n",
       "</style>\n",
       "<ol class=list-inline><li>'ride_id'</li><li>'rideable_type'</li><li>'started_at'</li><li>'ended_at'</li><li>'start_station_name'</li><li>'start_station_id'</li><li>'end_station_name'</li><li>'end_station_id'</li><li>'start_lat'</li><li>'start_lng'</li><li>'end_lat'</li><li>'end_lng'</li><li>'member_casual'</li></ol>\n"
      ],
      "text/latex": [
       "\\begin{enumerate*}\n",
       "\\item 'ride\\_id'\n",
       "\\item 'rideable\\_type'\n",
       "\\item 'started\\_at'\n",
       "\\item 'ended\\_at'\n",
       "\\item 'start\\_station\\_name'\n",
       "\\item 'start\\_station\\_id'\n",
       "\\item 'end\\_station\\_name'\n",
       "\\item 'end\\_station\\_id'\n",
       "\\item 'start\\_lat'\n",
       "\\item 'start\\_lng'\n",
       "\\item 'end\\_lat'\n",
       "\\item 'end\\_lng'\n",
       "\\item 'member\\_casual'\n",
       "\\end{enumerate*}\n"
      ],
      "text/markdown": [
       "1. 'ride_id'\n",
       "2. 'rideable_type'\n",
       "3. 'started_at'\n",
       "4. 'ended_at'\n",
       "5. 'start_station_name'\n",
       "6. 'start_station_id'\n",
       "7. 'end_station_name'\n",
       "8. 'end_station_id'\n",
       "9. 'start_lat'\n",
       "10. 'start_lng'\n",
       "11. 'end_lat'\n",
       "12. 'end_lng'\n",
       "13. 'member_casual'\n",
       "\n",
       "\n"
      ],
      "text/plain": [
       " [1] \"ride_id\"            \"rideable_type\"      \"started_at\"        \n",
       " [4] \"ended_at\"           \"start_station_name\" \"start_station_id\"  \n",
       " [7] \"end_station_name\"   \"end_station_id\"     \"start_lat\"         \n",
       "[10] \"start_lng\"          \"end_lat\"            \"end_lng\"           \n",
       "[13] \"member_casual\"     "
      ]
     },
     "metadata": {},
     "output_type": "display_data"
    },
    {
     "data": {
      "text/html": [
       "<style>\n",
       ".list-inline {list-style: none; margin:0; padding: 0}\n",
       ".list-inline>li {display: inline-block}\n",
       ".list-inline>li:not(:last-child)::after {content: \"\\00b7\"; padding: 0 .5ex}\n",
       "</style>\n",
       "<ol class=list-inline><li>'ride_id'</li><li>'rideable_type'</li><li>'started_at'</li><li>'ended_at'</li><li>'start_station_name'</li><li>'start_station_id'</li><li>'end_station_name'</li><li>'end_station_id'</li><li>'start_lat'</li><li>'start_lng'</li><li>'end_lat'</li><li>'end_lng'</li><li>'member_casual'</li></ol>\n"
      ],
      "text/latex": [
       "\\begin{enumerate*}\n",
       "\\item 'ride\\_id'\n",
       "\\item 'rideable\\_type'\n",
       "\\item 'started\\_at'\n",
       "\\item 'ended\\_at'\n",
       "\\item 'start\\_station\\_name'\n",
       "\\item 'start\\_station\\_id'\n",
       "\\item 'end\\_station\\_name'\n",
       "\\item 'end\\_station\\_id'\n",
       "\\item 'start\\_lat'\n",
       "\\item 'start\\_lng'\n",
       "\\item 'end\\_lat'\n",
       "\\item 'end\\_lng'\n",
       "\\item 'member\\_casual'\n",
       "\\end{enumerate*}\n"
      ],
      "text/markdown": [
       "1. 'ride_id'\n",
       "2. 'rideable_type'\n",
       "3. 'started_at'\n",
       "4. 'ended_at'\n",
       "5. 'start_station_name'\n",
       "6. 'start_station_id'\n",
       "7. 'end_station_name'\n",
       "8. 'end_station_id'\n",
       "9. 'start_lat'\n",
       "10. 'start_lng'\n",
       "11. 'end_lat'\n",
       "12. 'end_lng'\n",
       "13. 'member_casual'\n",
       "\n",
       "\n"
      ],
      "text/plain": [
       " [1] \"ride_id\"            \"rideable_type\"      \"started_at\"        \n",
       " [4] \"ended_at\"           \"start_station_name\" \"start_station_id\"  \n",
       " [7] \"end_station_name\"   \"end_station_id\"     \"start_lat\"         \n",
       "[10] \"start_lng\"          \"end_lat\"            \"end_lng\"           \n",
       "[13] \"member_casual\"     "
      ]
     },
     "metadata": {},
     "output_type": "display_data"
    },
    {
     "data": {
      "text/html": [
       "<style>\n",
       ".list-inline {list-style: none; margin:0; padding: 0}\n",
       ".list-inline>li {display: inline-block}\n",
       ".list-inline>li:not(:last-child)::after {content: \"\\00b7\"; padding: 0 .5ex}\n",
       "</style>\n",
       "<ol class=list-inline><li>'ride_id'</li><li>'rideable_type'</li><li>'started_at'</li><li>'ended_at'</li><li>'start_station_name'</li><li>'start_station_id'</li><li>'end_station_name'</li><li>'end_station_id'</li><li>'start_lat'</li><li>'start_lng'</li><li>'end_lat'</li><li>'end_lng'</li><li>'member_casual'</li></ol>\n"
      ],
      "text/latex": [
       "\\begin{enumerate*}\n",
       "\\item 'ride\\_id'\n",
       "\\item 'rideable\\_type'\n",
       "\\item 'started\\_at'\n",
       "\\item 'ended\\_at'\n",
       "\\item 'start\\_station\\_name'\n",
       "\\item 'start\\_station\\_id'\n",
       "\\item 'end\\_station\\_name'\n",
       "\\item 'end\\_station\\_id'\n",
       "\\item 'start\\_lat'\n",
       "\\item 'start\\_lng'\n",
       "\\item 'end\\_lat'\n",
       "\\item 'end\\_lng'\n",
       "\\item 'member\\_casual'\n",
       "\\end{enumerate*}\n"
      ],
      "text/markdown": [
       "1. 'ride_id'\n",
       "2. 'rideable_type'\n",
       "3. 'started_at'\n",
       "4. 'ended_at'\n",
       "5. 'start_station_name'\n",
       "6. 'start_station_id'\n",
       "7. 'end_station_name'\n",
       "8. 'end_station_id'\n",
       "9. 'start_lat'\n",
       "10. 'start_lng'\n",
       "11. 'end_lat'\n",
       "12. 'end_lng'\n",
       "13. 'member_casual'\n",
       "\n",
       "\n"
      ],
      "text/plain": [
       " [1] \"ride_id\"            \"rideable_type\"      \"started_at\"        \n",
       " [4] \"ended_at\"           \"start_station_name\" \"start_station_id\"  \n",
       " [7] \"end_station_name\"   \"end_station_id\"     \"start_lat\"         \n",
       "[10] \"start_lng\"          \"end_lat\"            \"end_lng\"           \n",
       "[13] \"member_casual\"     "
      ]
     },
     "metadata": {},
     "output_type": "display_data"
    },
    {
     "data": {
      "text/html": [
       "<style>\n",
       ".list-inline {list-style: none; margin:0; padding: 0}\n",
       ".list-inline>li {display: inline-block}\n",
       ".list-inline>li:not(:last-child)::after {content: \"\\00b7\"; padding: 0 .5ex}\n",
       "</style>\n",
       "<ol class=list-inline><li>'ride_id'</li><li>'rideable_type'</li><li>'started_at'</li><li>'ended_at'</li><li>'start_station_name'</li><li>'start_station_id'</li><li>'end_station_name'</li><li>'end_station_id'</li><li>'start_lat'</li><li>'start_lng'</li><li>'end_lat'</li><li>'end_lng'</li><li>'member_casual'</li></ol>\n"
      ],
      "text/latex": [
       "\\begin{enumerate*}\n",
       "\\item 'ride\\_id'\n",
       "\\item 'rideable\\_type'\n",
       "\\item 'started\\_at'\n",
       "\\item 'ended\\_at'\n",
       "\\item 'start\\_station\\_name'\n",
       "\\item 'start\\_station\\_id'\n",
       "\\item 'end\\_station\\_name'\n",
       "\\item 'end\\_station\\_id'\n",
       "\\item 'start\\_lat'\n",
       "\\item 'start\\_lng'\n",
       "\\item 'end\\_lat'\n",
       "\\item 'end\\_lng'\n",
       "\\item 'member\\_casual'\n",
       "\\end{enumerate*}\n"
      ],
      "text/markdown": [
       "1. 'ride_id'\n",
       "2. 'rideable_type'\n",
       "3. 'started_at'\n",
       "4. 'ended_at'\n",
       "5. 'start_station_name'\n",
       "6. 'start_station_id'\n",
       "7. 'end_station_name'\n",
       "8. 'end_station_id'\n",
       "9. 'start_lat'\n",
       "10. 'start_lng'\n",
       "11. 'end_lat'\n",
       "12. 'end_lng'\n",
       "13. 'member_casual'\n",
       "\n",
       "\n"
      ],
      "text/plain": [
       " [1] \"ride_id\"            \"rideable_type\"      \"started_at\"        \n",
       " [4] \"ended_at\"           \"start_station_name\" \"start_station_id\"  \n",
       " [7] \"end_station_name\"   \"end_station_id\"     \"start_lat\"         \n",
       "[10] \"start_lng\"          \"end_lat\"            \"end_lng\"           \n",
       "[13] \"member_casual\"     "
      ]
     },
     "metadata": {},
     "output_type": "display_data"
    },
    {
     "data": {
      "text/html": [
       "<style>\n",
       ".list-inline {list-style: none; margin:0; padding: 0}\n",
       ".list-inline>li {display: inline-block}\n",
       ".list-inline>li:not(:last-child)::after {content: \"\\00b7\"; padding: 0 .5ex}\n",
       "</style>\n",
       "<ol class=list-inline><li>'ride_id'</li><li>'rideable_type'</li><li>'started_at'</li><li>'ended_at'</li><li>'start_station_name'</li><li>'start_station_id'</li><li>'end_station_name'</li><li>'end_station_id'</li><li>'start_lat'</li><li>'start_lng'</li><li>'end_lat'</li><li>'end_lng'</li><li>'member_casual'</li></ol>\n"
      ],
      "text/latex": [
       "\\begin{enumerate*}\n",
       "\\item 'ride\\_id'\n",
       "\\item 'rideable\\_type'\n",
       "\\item 'started\\_at'\n",
       "\\item 'ended\\_at'\n",
       "\\item 'start\\_station\\_name'\n",
       "\\item 'start\\_station\\_id'\n",
       "\\item 'end\\_station\\_name'\n",
       "\\item 'end\\_station\\_id'\n",
       "\\item 'start\\_lat'\n",
       "\\item 'start\\_lng'\n",
       "\\item 'end\\_lat'\n",
       "\\item 'end\\_lng'\n",
       "\\item 'member\\_casual'\n",
       "\\end{enumerate*}\n"
      ],
      "text/markdown": [
       "1. 'ride_id'\n",
       "2. 'rideable_type'\n",
       "3. 'started_at'\n",
       "4. 'ended_at'\n",
       "5. 'start_station_name'\n",
       "6. 'start_station_id'\n",
       "7. 'end_station_name'\n",
       "8. 'end_station_id'\n",
       "9. 'start_lat'\n",
       "10. 'start_lng'\n",
       "11. 'end_lat'\n",
       "12. 'end_lng'\n",
       "13. 'member_casual'\n",
       "\n",
       "\n"
      ],
      "text/plain": [
       " [1] \"ride_id\"            \"rideable_type\"      \"started_at\"        \n",
       " [4] \"ended_at\"           \"start_station_name\" \"start_station_id\"  \n",
       " [7] \"end_station_name\"   \"end_station_id\"     \"start_lat\"         \n",
       "[10] \"start_lng\"          \"end_lat\"            \"end_lng\"           \n",
       "[13] \"member_casual\"     "
      ]
     },
     "metadata": {},
     "output_type": "display_data"
    },
    {
     "data": {
      "text/html": [
       "<style>\n",
       ".list-inline {list-style: none; margin:0; padding: 0}\n",
       ".list-inline>li {display: inline-block}\n",
       ".list-inline>li:not(:last-child)::after {content: \"\\00b7\"; padding: 0 .5ex}\n",
       "</style>\n",
       "<ol class=list-inline><li>'ride_id'</li><li>'rideable_type'</li><li>'started_at'</li><li>'ended_at'</li><li>'start_station_name'</li><li>'start_station_id'</li><li>'end_station_name'</li><li>'end_station_id'</li><li>'start_lat'</li><li>'start_lng'</li><li>'end_lat'</li><li>'end_lng'</li><li>'member_casual'</li></ol>\n"
      ],
      "text/latex": [
       "\\begin{enumerate*}\n",
       "\\item 'ride\\_id'\n",
       "\\item 'rideable\\_type'\n",
       "\\item 'started\\_at'\n",
       "\\item 'ended\\_at'\n",
       "\\item 'start\\_station\\_name'\n",
       "\\item 'start\\_station\\_id'\n",
       "\\item 'end\\_station\\_name'\n",
       "\\item 'end\\_station\\_id'\n",
       "\\item 'start\\_lat'\n",
       "\\item 'start\\_lng'\n",
       "\\item 'end\\_lat'\n",
       "\\item 'end\\_lng'\n",
       "\\item 'member\\_casual'\n",
       "\\end{enumerate*}\n"
      ],
      "text/markdown": [
       "1. 'ride_id'\n",
       "2. 'rideable_type'\n",
       "3. 'started_at'\n",
       "4. 'ended_at'\n",
       "5. 'start_station_name'\n",
       "6. 'start_station_id'\n",
       "7. 'end_station_name'\n",
       "8. 'end_station_id'\n",
       "9. 'start_lat'\n",
       "10. 'start_lng'\n",
       "11. 'end_lat'\n",
       "12. 'end_lng'\n",
       "13. 'member_casual'\n",
       "\n",
       "\n"
      ],
      "text/plain": [
       " [1] \"ride_id\"            \"rideable_type\"      \"started_at\"        \n",
       " [4] \"ended_at\"           \"start_station_name\" \"start_station_id\"  \n",
       " [7] \"end_station_name\"   \"end_station_id\"     \"start_lat\"         \n",
       "[10] \"start_lng\"          \"end_lat\"            \"end_lng\"           \n",
       "[13] \"member_casual\"     "
      ]
     },
     "metadata": {},
     "output_type": "display_data"
    },
    {
     "data": {
      "text/html": [
       "<style>\n",
       ".list-inline {list-style: none; margin:0; padding: 0}\n",
       ".list-inline>li {display: inline-block}\n",
       ".list-inline>li:not(:last-child)::after {content: \"\\00b7\"; padding: 0 .5ex}\n",
       "</style>\n",
       "<ol class=list-inline><li>'ride_id'</li><li>'rideable_type'</li><li>'started_at'</li><li>'ended_at'</li><li>'start_station_name'</li><li>'start_station_id'</li><li>'end_station_name'</li><li>'end_station_id'</li><li>'start_lat'</li><li>'start_lng'</li><li>'end_lat'</li><li>'end_lng'</li><li>'member_casual'</li></ol>\n"
      ],
      "text/latex": [
       "\\begin{enumerate*}\n",
       "\\item 'ride\\_id'\n",
       "\\item 'rideable\\_type'\n",
       "\\item 'started\\_at'\n",
       "\\item 'ended\\_at'\n",
       "\\item 'start\\_station\\_name'\n",
       "\\item 'start\\_station\\_id'\n",
       "\\item 'end\\_station\\_name'\n",
       "\\item 'end\\_station\\_id'\n",
       "\\item 'start\\_lat'\n",
       "\\item 'start\\_lng'\n",
       "\\item 'end\\_lat'\n",
       "\\item 'end\\_lng'\n",
       "\\item 'member\\_casual'\n",
       "\\end{enumerate*}\n"
      ],
      "text/markdown": [
       "1. 'ride_id'\n",
       "2. 'rideable_type'\n",
       "3. 'started_at'\n",
       "4. 'ended_at'\n",
       "5. 'start_station_name'\n",
       "6. 'start_station_id'\n",
       "7. 'end_station_name'\n",
       "8. 'end_station_id'\n",
       "9. 'start_lat'\n",
       "10. 'start_lng'\n",
       "11. 'end_lat'\n",
       "12. 'end_lng'\n",
       "13. 'member_casual'\n",
       "\n",
       "\n"
      ],
      "text/plain": [
       " [1] \"ride_id\"            \"rideable_type\"      \"started_at\"        \n",
       " [4] \"ended_at\"           \"start_station_name\" \"start_station_id\"  \n",
       " [7] \"end_station_name\"   \"end_station_id\"     \"start_lat\"         \n",
       "[10] \"start_lng\"          \"end_lat\"            \"end_lng\"           \n",
       "[13] \"member_casual\"     "
      ]
     },
     "metadata": {},
     "output_type": "display_data"
    },
    {
     "data": {
      "text/html": [
       "<style>\n",
       ".list-inline {list-style: none; margin:0; padding: 0}\n",
       ".list-inline>li {display: inline-block}\n",
       ".list-inline>li:not(:last-child)::after {content: \"\\00b7\"; padding: 0 .5ex}\n",
       "</style>\n",
       "<ol class=list-inline><li>'ride_id'</li><li>'rideable_type'</li><li>'started_at'</li><li>'ended_at'</li><li>'start_station_name'</li><li>'start_station_id'</li><li>'end_station_name'</li><li>'end_station_id'</li><li>'start_lat'</li><li>'start_lng'</li><li>'end_lat'</li><li>'end_lng'</li><li>'member_casual'</li></ol>\n"
      ],
      "text/latex": [
       "\\begin{enumerate*}\n",
       "\\item 'ride\\_id'\n",
       "\\item 'rideable\\_type'\n",
       "\\item 'started\\_at'\n",
       "\\item 'ended\\_at'\n",
       "\\item 'start\\_station\\_name'\n",
       "\\item 'start\\_station\\_id'\n",
       "\\item 'end\\_station\\_name'\n",
       "\\item 'end\\_station\\_id'\n",
       "\\item 'start\\_lat'\n",
       "\\item 'start\\_lng'\n",
       "\\item 'end\\_lat'\n",
       "\\item 'end\\_lng'\n",
       "\\item 'member\\_casual'\n",
       "\\end{enumerate*}\n"
      ],
      "text/markdown": [
       "1. 'ride_id'\n",
       "2. 'rideable_type'\n",
       "3. 'started_at'\n",
       "4. 'ended_at'\n",
       "5. 'start_station_name'\n",
       "6. 'start_station_id'\n",
       "7. 'end_station_name'\n",
       "8. 'end_station_id'\n",
       "9. 'start_lat'\n",
       "10. 'start_lng'\n",
       "11. 'end_lat'\n",
       "12. 'end_lng'\n",
       "13. 'member_casual'\n",
       "\n",
       "\n"
      ],
      "text/plain": [
       " [1] \"ride_id\"            \"rideable_type\"      \"started_at\"        \n",
       " [4] \"ended_at\"           \"start_station_name\" \"start_station_id\"  \n",
       " [7] \"end_station_name\"   \"end_station_id\"     \"start_lat\"         \n",
       "[10] \"start_lng\"          \"end_lat\"            \"end_lng\"           \n",
       "[13] \"member_casual\"     "
      ]
     },
     "metadata": {},
     "output_type": "display_data"
    },
    {
     "data": {
      "text/html": [
       "<style>\n",
       ".list-inline {list-style: none; margin:0; padding: 0}\n",
       ".list-inline>li {display: inline-block}\n",
       ".list-inline>li:not(:last-child)::after {content: \"\\00b7\"; padding: 0 .5ex}\n",
       "</style>\n",
       "<ol class=list-inline><li>'ride_id'</li><li>'rideable_type'</li><li>'started_at'</li><li>'ended_at'</li><li>'start_station_name'</li><li>'start_station_id'</li><li>'end_station_name'</li><li>'end_station_id'</li><li>'start_lat'</li><li>'start_lng'</li><li>'end_lat'</li><li>'end_lng'</li><li>'member_casual'</li></ol>\n"
      ],
      "text/latex": [
       "\\begin{enumerate*}\n",
       "\\item 'ride\\_id'\n",
       "\\item 'rideable\\_type'\n",
       "\\item 'started\\_at'\n",
       "\\item 'ended\\_at'\n",
       "\\item 'start\\_station\\_name'\n",
       "\\item 'start\\_station\\_id'\n",
       "\\item 'end\\_station\\_name'\n",
       "\\item 'end\\_station\\_id'\n",
       "\\item 'start\\_lat'\n",
       "\\item 'start\\_lng'\n",
       "\\item 'end\\_lat'\n",
       "\\item 'end\\_lng'\n",
       "\\item 'member\\_casual'\n",
       "\\end{enumerate*}\n"
      ],
      "text/markdown": [
       "1. 'ride_id'\n",
       "2. 'rideable_type'\n",
       "3. 'started_at'\n",
       "4. 'ended_at'\n",
       "5. 'start_station_name'\n",
       "6. 'start_station_id'\n",
       "7. 'end_station_name'\n",
       "8. 'end_station_id'\n",
       "9. 'start_lat'\n",
       "10. 'start_lng'\n",
       "11. 'end_lat'\n",
       "12. 'end_lng'\n",
       "13. 'member_casual'\n",
       "\n",
       "\n"
      ],
      "text/plain": [
       " [1] \"ride_id\"            \"rideable_type\"      \"started_at\"        \n",
       " [4] \"ended_at\"           \"start_station_name\" \"start_station_id\"  \n",
       " [7] \"end_station_name\"   \"end_station_id\"     \"start_lat\"         \n",
       "[10] \"start_lng\"          \"end_lat\"            \"end_lng\"           \n",
       "[13] \"member_casual\"     "
      ]
     },
     "metadata": {},
     "output_type": "display_data"
    },
    {
     "data": {
      "text/html": [
       "<style>\n",
       ".list-inline {list-style: none; margin:0; padding: 0}\n",
       ".list-inline>li {display: inline-block}\n",
       ".list-inline>li:not(:last-child)::after {content: \"\\00b7\"; padding: 0 .5ex}\n",
       "</style>\n",
       "<ol class=list-inline><li>'ride_id'</li><li>'rideable_type'</li><li>'started_at'</li><li>'ended_at'</li><li>'start_station_name'</li><li>'start_station_id'</li><li>'end_station_name'</li><li>'end_station_id'</li><li>'start_lat'</li><li>'start_lng'</li><li>'end_lat'</li><li>'end_lng'</li><li>'member_casual'</li></ol>\n"
      ],
      "text/latex": [
       "\\begin{enumerate*}\n",
       "\\item 'ride\\_id'\n",
       "\\item 'rideable\\_type'\n",
       "\\item 'started\\_at'\n",
       "\\item 'ended\\_at'\n",
       "\\item 'start\\_station\\_name'\n",
       "\\item 'start\\_station\\_id'\n",
       "\\item 'end\\_station\\_name'\n",
       "\\item 'end\\_station\\_id'\n",
       "\\item 'start\\_lat'\n",
       "\\item 'start\\_lng'\n",
       "\\item 'end\\_lat'\n",
       "\\item 'end\\_lng'\n",
       "\\item 'member\\_casual'\n",
       "\\end{enumerate*}\n"
      ],
      "text/markdown": [
       "1. 'ride_id'\n",
       "2. 'rideable_type'\n",
       "3. 'started_at'\n",
       "4. 'ended_at'\n",
       "5. 'start_station_name'\n",
       "6. 'start_station_id'\n",
       "7. 'end_station_name'\n",
       "8. 'end_station_id'\n",
       "9. 'start_lat'\n",
       "10. 'start_lng'\n",
       "11. 'end_lat'\n",
       "12. 'end_lng'\n",
       "13. 'member_casual'\n",
       "\n",
       "\n"
      ],
      "text/plain": [
       " [1] \"ride_id\"            \"rideable_type\"      \"started_at\"        \n",
       " [4] \"ended_at\"           \"start_station_name\" \"start_station_id\"  \n",
       " [7] \"end_station_name\"   \"end_station_id\"     \"start_lat\"         \n",
       "[10] \"start_lng\"          \"end_lat\"            \"end_lng\"           \n",
       "[13] \"member_casual\"     "
      ]
     },
     "metadata": {},
     "output_type": "display_data"
    },
    {
     "data": {
      "text/html": [
       "<style>\n",
       ".list-inline {list-style: none; margin:0; padding: 0}\n",
       ".list-inline>li {display: inline-block}\n",
       ".list-inline>li:not(:last-child)::after {content: \"\\00b7\"; padding: 0 .5ex}\n",
       "</style>\n",
       "<ol class=list-inline><li>'ride_id'</li><li>'rideable_type'</li><li>'started_at'</li><li>'ended_at'</li><li>'start_station_name'</li><li>'start_station_id'</li><li>'end_station_name'</li><li>'end_station_id'</li><li>'start_lat'</li><li>'start_lng'</li><li>'end_lat'</li><li>'end_lng'</li><li>'member_casual'</li></ol>\n"
      ],
      "text/latex": [
       "\\begin{enumerate*}\n",
       "\\item 'ride\\_id'\n",
       "\\item 'rideable\\_type'\n",
       "\\item 'started\\_at'\n",
       "\\item 'ended\\_at'\n",
       "\\item 'start\\_station\\_name'\n",
       "\\item 'start\\_station\\_id'\n",
       "\\item 'end\\_station\\_name'\n",
       "\\item 'end\\_station\\_id'\n",
       "\\item 'start\\_lat'\n",
       "\\item 'start\\_lng'\n",
       "\\item 'end\\_lat'\n",
       "\\item 'end\\_lng'\n",
       "\\item 'member\\_casual'\n",
       "\\end{enumerate*}\n"
      ],
      "text/markdown": [
       "1. 'ride_id'\n",
       "2. 'rideable_type'\n",
       "3. 'started_at'\n",
       "4. 'ended_at'\n",
       "5. 'start_station_name'\n",
       "6. 'start_station_id'\n",
       "7. 'end_station_name'\n",
       "8. 'end_station_id'\n",
       "9. 'start_lat'\n",
       "10. 'start_lng'\n",
       "11. 'end_lat'\n",
       "12. 'end_lng'\n",
       "13. 'member_casual'\n",
       "\n",
       "\n"
      ],
      "text/plain": [
       " [1] \"ride_id\"            \"rideable_type\"      \"started_at\"        \n",
       " [4] \"ended_at\"           \"start_station_name\" \"start_station_id\"  \n",
       " [7] \"end_station_name\"   \"end_station_id\"     \"start_lat\"         \n",
       "[10] \"start_lng\"          \"end_lat\"            \"end_lng\"           \n",
       "[13] \"member_casual\"     "
      ]
     },
     "metadata": {},
     "output_type": "display_data"
    },
    {
     "name": "stdout",
     "output_type": "stream",
     "text": [
      "'data.frame':\t769204 obs. of  13 variables:\n",
      " $ ride_id           : chr  \"600CFD130D0FD2A4\" \"F5E6B5C1682C6464\" \"B6EB6D27BAD771D2\" \"C9C320375DE1D5C6\" ...\n",
      " $ rideable_type     : chr  \"electric_bike\" \"electric_bike\" \"electric_bike\" \"electric_bike\" ...\n",
      " $ started_at        : chr  \"2022-06-30 17:27:53\" \"2022-06-30 18:39:52\" \"2022-06-30 11:49:25\" \"2022-06-30 11:15:25\" ...\n",
      " $ ended_at          : chr  \"2022-06-30 17:35:15\" \"2022-06-30 18:47:28\" \"2022-06-30 12:02:54\" \"2022-06-30 11:19:43\" ...\n",
      " $ start_station_name: chr  \"\" \"\" \"\" \"\" ...\n",
      " $ start_station_id  : chr  \"\" \"\" \"\" \"\" ...\n",
      " $ end_station_name  : chr  \"\" \"\" \"\" \"\" ...\n",
      " $ end_station_id    : chr  \"\" \"\" \"\" \"\" ...\n",
      " $ start_lat         : num  41.9 41.9 41.9 41.8 41.9 ...\n",
      " $ start_lng         : num  -87.6 -87.6 -87.7 -87.7 -87.6 ...\n",
      " $ end_lat           : num  41.9 41.9 41.9 41.8 41.9 ...\n",
      " $ end_lng           : num  -87.6 -87.6 -87.6 -87.7 -87.6 ...\n",
      " $ member_casual     : chr  \"casual\" \"casual\" \"casual\" \"casual\" ...\n",
      "'data.frame':\t823488 obs. of  13 variables:\n",
      " $ ride_id           : chr  \"954144C2F67B1932\" \"292E027607D218B6\" \"57765852588AD6E0\" \"B5B6BE44314590E6\" ...\n",
      " $ rideable_type     : chr  \"classic_bike\" \"classic_bike\" \"classic_bike\" \"classic_bike\" ...\n",
      " $ started_at        : chr  \"2022-07-05 08:12:47\" \"2022-07-26 12:53:38\" \"2022-07-03 13:58:49\" \"2022-07-31 17:44:21\" ...\n",
      " $ ended_at          : chr  \"2022-07-05 08:24:32\" \"2022-07-26 12:55:31\" \"2022-07-03 14:06:32\" \"2022-07-31 18:42:50\" ...\n",
      " $ start_station_name: chr  \"Ashland Ave & Blackhawk St\" \"Buckingham Fountain (Temp)\" \"Buckingham Fountain (Temp)\" \"Buckingham Fountain (Temp)\" ...\n",
      " $ start_station_id  : chr  \"13224\" \"15541\" \"15541\" \"15541\" ...\n",
      " $ end_station_name  : chr  \"Kingsbury St & Kinzie St\" \"Michigan Ave & 8th St\" \"Michigan Ave & 8th St\" \"Woodlawn Ave & 55th St\" ...\n",
      " $ end_station_id    : chr  \"KA1503000043\" \"623\" \"623\" \"TA1307000164\" ...\n",
      " $ start_lat         : num  41.9 41.9 41.9 41.9 41.9 ...\n",
      " $ start_lng         : num  -87.7 -87.6 -87.6 -87.6 -87.6 ...\n",
      " $ end_lat           : num  41.9 41.9 41.9 41.8 41.9 ...\n",
      " $ end_lng           : num  -87.6 -87.6 -87.6 -87.6 -87.7 ...\n",
      " $ member_casual     : chr  \"member\" \"casual\" \"casual\" \"casual\" ...\n",
      "'data.frame':\t785932 obs. of  13 variables:\n",
      " $ ride_id           : chr  \"550CF7EFEAE0C618\" \"DAD198F405F9C5F5\" \"E6F2BC47B65CB7FD\" \"F597830181C2E13C\" ...\n",
      " $ rideable_type     : chr  \"electric_bike\" \"electric_bike\" \"electric_bike\" \"electric_bike\" ...\n",
      " $ started_at        : chr  \"2022-08-07 21:34:15\" \"2022-08-08 14:39:21\" \"2022-08-08 15:29:50\" \"2022-08-08 02:43:50\" ...\n",
      " $ ended_at          : chr  \"2022-08-07 21:41:46\" \"2022-08-08 14:53:23\" \"2022-08-08 15:40:34\" \"2022-08-08 02:58:53\" ...\n",
      " $ start_station_name: chr  \"\" \"\" \"\" \"\" ...\n",
      " $ start_station_id  : chr  \"\" \"\" \"\" \"\" ...\n",
      " $ end_station_name  : chr  \"\" \"\" \"\" \"\" ...\n",
      " $ end_station_id    : chr  \"\" \"\" \"\" \"\" ...\n",
      " $ start_lat         : num  41.9 41.9 42 41.9 41.9 ...\n",
      " $ start_lng         : num  -87.7 -87.6 -87.7 -87.7 -87.7 ...\n",
      " $ end_lat           : num  41.9 41.9 42 42 41.8 ...\n",
      " $ end_lng           : num  -87.7 -87.6 -87.7 -87.7 -87.7 ...\n",
      " $ member_casual     : chr  \"casual\" \"casual\" \"casual\" \"casual\" ...\n",
      "'data.frame':\t701339 obs. of  13 variables:\n",
      " $ ride_id           : chr  \"5156990AC19CA285\" \"E12D4A16BF51C274\" \"A02B53CD7DB72DD7\" \"C82E05FEE872DF11\" ...\n",
      " $ rideable_type     : chr  \"electric_bike\" \"electric_bike\" \"electric_bike\" \"electric_bike\" ...\n",
      " $ started_at        : chr  \"2022-09-01 08:36:22\" \"2022-09-01 17:11:29\" \"2022-09-01 17:15:50\" \"2022-09-01 09:00:28\" ...\n",
      " $ ended_at          : chr  \"2022-09-01 08:39:05\" \"2022-09-01 17:14:45\" \"2022-09-01 17:16:12\" \"2022-09-01 09:10:32\" ...\n",
      " $ start_station_name: chr  \"\" \"\" \"\" \"\" ...\n",
      " $ start_station_id  : chr  \"\" \"\" \"\" \"\" ...\n",
      " $ end_station_name  : chr  \"California Ave & Milwaukee Ave\" \"\" \"\" \"\" ...\n",
      " $ end_station_id    : chr  \"13084\" \"\" \"\" \"\" ...\n",
      " $ start_lat         : num  41.9 41.9 41.9 41.9 41.9 ...\n",
      " $ start_lng         : num  -87.7 -87.6 -87.6 -87.7 -87.7 ...\n",
      " $ end_lat           : num  41.9 41.9 41.9 41.9 41.9 ...\n",
      " $ end_lng           : num  -87.7 -87.6 -87.6 -87.7 -87.7 ...\n",
      " $ member_casual     : chr  \"casual\" \"casual\" \"casual\" \"casual\" ...\n",
      "'data.frame':\t558685 obs. of  13 variables:\n",
      " $ ride_id           : chr  \"A50255C1E17942AB\" \"DB692A70BD2DD4E3\" \"3C02727AAF60F873\" \"47E653FDC2D99236\" ...\n",
      " $ rideable_type     : chr  \"classic_bike\" \"electric_bike\" \"electric_bike\" \"electric_bike\" ...\n",
      " $ started_at        : chr  \"2022-10-14 17:13:30\" \"2022-10-01 16:29:26\" \"2022-10-19 18:55:40\" \"2022-10-31 07:52:36\" ...\n",
      " $ ended_at          : chr  \"2022-10-14 17:19:39\" \"2022-10-01 16:49:06\" \"2022-10-19 19:03:30\" \"2022-10-31 07:58:49\" ...\n",
      " $ start_station_name: chr  \"Noble St & Milwaukee Ave\" \"Damen Ave & Charleston St\" \"Hoyne Ave & Balmoral Ave\" \"Rush St & Cedar St\" ...\n",
      " $ start_station_id  : chr  \"13290\" \"13288\" \"655\" \"KA1504000133\" ...\n",
      " $ end_station_name  : chr  \"Larrabee St & Division St\" \"Damen Ave & Cullerton St\" \"Western Ave & Leland Ave\" \"Orleans St & Chestnut St (NEXT Apts)\" ...\n",
      " $ end_station_id    : chr  \"KA1504000079\" \"13089\" \"TA1307000140\" \"620\" ...\n",
      " $ start_lat         : num  41.9 41.9 42 41.9 41.9 ...\n",
      " $ start_lng         : num  -87.7 -87.7 -87.7 -87.6 -87.6 ...\n",
      " $ end_lat           : num  41.9 41.9 42 41.9 41.9 ...\n",
      " $ end_lng           : num  -87.6 -87.7 -87.7 -87.6 -87.6 ...\n",
      " $ member_casual     : chr  \"member\" \"casual\" \"member\" \"member\" ...\n",
      "'data.frame':\t337735 obs. of  13 variables:\n",
      " $ ride_id           : chr  \"BCC66FC6FAB27CC7\" \"772AB67E902C180F\" \"585EAD07FDEC0152\" \"91C4E7ED3C262FF9\" ...\n",
      " $ rideable_type     : chr  \"electric_bike\" \"classic_bike\" \"classic_bike\" \"classic_bike\" ...\n",
      " $ started_at        : chr  \"2022-11-10 06:21:55\" \"2022-11-04 07:31:55\" \"2022-11-21 17:20:29\" \"2022-11-25 17:29:34\" ...\n",
      " $ ended_at          : chr  \"2022-11-10 06:31:27\" \"2022-11-04 07:46:25\" \"2022-11-21 17:34:36\" \"2022-11-25 17:45:15\" ...\n",
      " $ start_station_name: chr  \"Canal St & Adams St\" \"Canal St & Adams St\" \"Indiana Ave & Roosevelt Rd\" \"Indiana Ave & Roosevelt Rd\" ...\n",
      " $ start_station_id  : chr  \"13011\" \"13011\" \"SL-005\" \"SL-005\" ...\n",
      " $ end_station_name  : chr  \"St. Clair St & Erie St\" \"St. Clair St & Erie St\" \"St. Clair St & Erie St\" \"St. Clair St & Erie St\" ...\n",
      " $ end_station_id    : chr  \"13016\" \"13016\" \"13016\" \"13016\" ...\n",
      " $ start_lat         : num  41.9 41.9 41.9 41.9 41.9 ...\n",
      " $ start_lng         : num  -87.6 -87.6 -87.6 -87.6 -87.6 ...\n",
      " $ end_lat           : num  41.9 41.9 41.9 41.9 41.9 ...\n",
      " $ end_lng           : num  -87.6 -87.6 -87.6 -87.6 -87.6 ...\n",
      " $ member_casual     : chr  \"member\" \"member\" \"member\" \"member\" ...\n",
      "'data.frame':\t181806 obs. of  13 variables:\n",
      " $ ride_id           : chr  \"65DBD2F447EC51C2\" \"0C201AA7EA0EA1AD\" \"E0B148CCB358A49D\" \"54C5775D2B7C9188\" ...\n",
      " $ rideable_type     : chr  \"electric_bike\" \"classic_bike\" \"electric_bike\" \"classic_bike\" ...\n",
      " $ started_at        : chr  \"2022-12-05 10:47:18\" \"2022-12-18 06:42:33\" \"2022-12-13 08:47:45\" \"2022-12-13 18:50:47\" ...\n",
      " $ ended_at          : chr  \"2022-12-05 10:56:34\" \"2022-12-18 07:08:44\" \"2022-12-13 08:59:51\" \"2022-12-13 19:19:48\" ...\n",
      " $ start_station_name: chr  \"Clifton Ave & Armitage Ave\" \"Broadway & Belmont Ave\" \"Sangamon St & Lake St\" \"Shields Ave & 31st St\" ...\n",
      " $ start_station_id  : chr  \"TA1307000163\" \"13277\" \"TA1306000015\" \"KA1503000038\" ...\n",
      " $ end_station_name  : chr  \"Sedgwick St & Webster Ave\" \"Sedgwick St & Webster Ave\" \"St. Clair St & Erie St\" \"Damen Ave & Madison St\" ...\n",
      " $ end_station_id    : chr  \"13191\" \"13191\" \"13016\" \"13134\" ...\n",
      " $ start_lat         : num  41.9 41.9 41.9 41.8 41.9 ...\n",
      " $ start_lng         : num  -87.7 -87.6 -87.7 -87.6 -87.7 ...\n",
      " $ end_lat           : num  41.9 41.9 41.9 41.9 41.9 ...\n",
      " $ end_lng           : num  -87.6 -87.6 -87.6 -87.7 -87.7 ...\n",
      " $ member_casual     : chr  \"member\" \"casual\" \"member\" \"member\" ...\n",
      "'data.frame':\t190301 obs. of  13 variables:\n",
      " $ ride_id           : chr  \"F96D5A74A3E41399\" \"13CB7EB698CEDB88\" \"BD88A2E670661CE5\" \"C90792D034FED968\" ...\n",
      " $ rideable_type     : chr  \"electric_bike\" \"classic_bike\" \"electric_bike\" \"classic_bike\" ...\n",
      " $ started_at        : chr  \"2023-01-21 20:05:42\" \"2023-01-10 15:37:36\" \"2023-01-02 07:51:57\" \"2023-01-22 10:52:58\" ...\n",
      " $ ended_at          : chr  \"2023-01-21 20:16:33\" \"2023-01-10 15:46:05\" \"2023-01-02 08:05:11\" \"2023-01-22 11:01:44\" ...\n",
      " $ start_station_name: chr  \"Lincoln Ave & Fullerton Ave\" \"Kimbark Ave & 53rd St\" \"Western Ave & Lunt Ave\" \"Kimbark Ave & 53rd St\" ...\n",
      " $ start_station_id  : chr  \"TA1309000058\" \"TA1309000037\" \"RP-005\" \"TA1309000037\" ...\n",
      " $ end_station_name  : chr  \"Hampden Ct & Diversey Ave\" \"Greenwood Ave & 47th St\" \"Valli Produce - Evanston Plaza\" \"Greenwood Ave & 47th St\" ...\n",
      " $ end_station_id    : chr  \"202480.0\" \"TA1308000002\" \"599\" \"TA1308000002\" ...\n",
      " $ start_lat         : num  41.9 41.8 42 41.8 41.8 ...\n",
      " $ start_lng         : num  -87.6 -87.6 -87.7 -87.6 -87.6 ...\n",
      " $ end_lat           : num  41.9 41.8 42 41.8 41.8 ...\n",
      " $ end_lng           : num  -87.6 -87.6 -87.7 -87.6 -87.6 ...\n",
      " $ member_casual     : chr  \"member\" \"member\" \"casual\" \"member\" ...\n",
      "'data.frame':\t190445 obs. of  13 variables:\n",
      " $ ride_id           : chr  \"CBCD0D7777F0E45F\" \"F3EC5FCE5FF39DE9\" \"E54C1F27FA9354FF\" \"3D561E04F739CC45\" ...\n",
      " $ rideable_type     : chr  \"classic_bike\" \"electric_bike\" \"classic_bike\" \"electric_bike\" ...\n",
      " $ started_at        : chr  \"2023-02-14 11:59:42\" \"2023-02-15 13:53:48\" \"2023-02-19 11:10:57\" \"2023-02-26 16:12:05\" ...\n",
      " $ ended_at          : chr  \"2023-02-14 12:13:38\" \"2023-02-15 13:59:08\" \"2023-02-19 11:35:01\" \"2023-02-26 16:39:55\" ...\n",
      " $ start_station_name: chr  \"Southport Ave & Clybourn Ave\" \"Clarendon Ave & Gordon Ter\" \"Southport Ave & Clybourn Ave\" \"Southport Ave & Clybourn Ave\" ...\n",
      " $ start_station_id  : chr  \"TA1309000030\" \"13379\" \"TA1309000030\" \"TA1309000030\" ...\n",
      " $ end_station_name  : chr  \"Clark St & Schiller St\" \"Sheridan Rd & Lawrence Ave\" \"Aberdeen St & Monroe St\" \"Franklin St & Adams St (Temp)\" ...\n",
      " $ end_station_id    : chr  \"TA1309000024\" \"TA1309000041\" \"13156\" \"TA1309000008\" ...\n",
      " $ start_lat         : num  41.9 42 41.9 41.9 41.8 ...\n",
      " $ start_lng         : num  -87.7 -87.6 -87.7 -87.7 -87.6 ...\n",
      " $ end_lat           : num  41.9 42 41.9 41.9 41.8 ...\n",
      " $ end_lng           : num  -87.6 -87.7 -87.7 -87.6 -87.6 ...\n",
      " $ member_casual     : chr  \"casual\" \"casual\" \"member\" \"member\" ...\n",
      "'data.frame':\t258678 obs. of  13 variables:\n",
      " $ ride_id           : chr  \"6842AA605EE9FBB3\" \"F984267A75B99A8C\" \"FF7CF57CFE026D02\" \"6B61B916032CB6D6\" ...\n",
      " $ rideable_type     : chr  \"electric_bike\" \"electric_bike\" \"classic_bike\" \"classic_bike\" ...\n",
      " $ started_at        : chr  \"2023-03-16 08:20:34\" \"2023-03-04 14:07:06\" \"2023-03-31 12:28:09\" \"2023-03-22 14:09:08\" ...\n",
      " $ ended_at          : chr  \"2023-03-16 08:22:52\" \"2023-03-04 14:15:31\" \"2023-03-31 12:38:47\" \"2023-03-22 14:24:51\" ...\n",
      " $ start_station_name: chr  \"Clark St & Armitage Ave\" \"Public Rack - Kedzie Ave & Argyle St\" \"Orleans St & Chestnut St (NEXT Apts)\" \"Desplaines St & Kinzie St\" ...\n",
      " $ start_station_id  : chr  \"13146\" \"491\" \"620\" \"TA1306000003\" ...\n",
      " $ end_station_name  : chr  \"Larrabee St & Webster Ave\" \"\" \"Clark St & Randolph St\" \"Sheffield Ave & Kingsbury St\" ...\n",
      " $ end_station_id    : chr  \"13193\" \"\" \"TA1305000030\" \"13154\" ...\n",
      " $ start_lat         : num  41.9 42 41.9 41.9 41.9 ...\n",
      " $ start_lng         : num  -87.6 -87.7 -87.6 -87.6 -87.7 ...\n",
      " $ end_lat           : num  41.9 42 41.9 41.9 41.9 ...\n",
      " $ end_lng           : num  -87.6 -87.7 -87.6 -87.7 -87.7 ...\n",
      " $ member_casual     : chr  \"member\" \"member\" \"member\" \"member\" ...\n",
      "'data.frame':\t426590 obs. of  13 variables:\n",
      " $ ride_id           : chr  \"8FE8F7D9C10E88C7\" \"34E4ED3ADF1D821B\" \"5296BF07A2F77CB5\" \"40759916B76D5D52\" ...\n",
      " $ rideable_type     : chr  \"electric_bike\" \"electric_bike\" \"electric_bike\" \"electric_bike\" ...\n",
      " $ started_at        : chr  \"2023-04-02 08:37:28\" \"2023-04-19 11:29:02\" \"2023-04-19 08:41:22\" \"2023-04-19 13:31:30\" ...\n",
      " $ ended_at          : chr  \"2023-04-02 08:41:37\" \"2023-04-19 11:52:12\" \"2023-04-19 08:43:22\" \"2023-04-19 13:35:09\" ...\n",
      " $ start_station_name: chr  \"\" \"\" \"\" \"\" ...\n",
      " $ start_station_id  : chr  \"\" \"\" \"\" \"\" ...\n",
      " $ end_station_name  : chr  \"\" \"\" \"\" \"\" ...\n",
      " $ end_station_id    : chr  \"\" \"\" \"\" \"\" ...\n",
      " $ start_lat         : num  41.8 41.9 41.9 41.9 41.9 ...\n",
      " $ start_lng         : num  -87.6 -87.7 -87.7 -87.7 -87.7 ...\n",
      " $ end_lat           : num  41.8 41.9 41.9 41.9 41.9 ...\n",
      " $ end_lng           : num  -87.6 -87.7 -87.7 -87.7 -87.6 ...\n",
      " $ member_casual     : chr  \"member\" \"member\" \"member\" \"member\" ...\n",
      "'data.frame':\t604827 obs. of  13 variables:\n",
      " $ ride_id           : chr  \"0D9FA920C3062031\" \"92485E5FB5888ACD\" \"FB144B3FC8300187\" \"DDEB93BC2CE9AA77\" ...\n",
      " $ rideable_type     : chr  \"electric_bike\" \"electric_bike\" \"electric_bike\" \"classic_bike\" ...\n",
      " $ started_at        : chr  \"2023-05-07 19:53:48\" \"2023-05-06 18:54:08\" \"2023-05-21 00:40:21\" \"2023-05-10 16:47:01\" ...\n",
      " $ ended_at          : chr  \"2023-05-07 19:58:32\" \"2023-05-06 19:03:35\" \"2023-05-21 00:44:36\" \"2023-05-10 16:59:52\" ...\n",
      " $ start_station_name: chr  \"Southport Ave & Belmont Ave\" \"Southport Ave & Belmont Ave\" \"Halsted St & 21st St\" \"Carpenter St & Huron St\" ...\n",
      " $ start_station_id  : chr  \"13229\" \"13229\" \"13162\" \"13196\" ...\n",
      " $ end_station_name  : chr  \"\" \"\" \"\" \"Damen Ave & Cortland St\" ...\n",
      " $ end_station_id    : chr  \"\" \"\" \"\" \"13133\" ...\n",
      " $ start_lat         : num  41.9 41.9 41.9 41.9 42 ...\n",
      " $ start_lng         : num  -87.7 -87.7 -87.6 -87.7 -87.7 ...\n",
      " $ end_lat           : num  41.9 41.9 41.9 41.9 41.9 ...\n",
      " $ end_lng           : num  -87.7 -87.7 -87.7 -87.7 -87.7 ...\n",
      " $ member_casual     : chr  \"member\" \"member\" \"member\" \"member\" ...\n"
     ]
    }
   ],
   "source": [
    "# To check consistency of the datasets\n",
    "\n",
    "colnames(June_2022)\n",
    "colnames(July_2022)\n",
    "colnames(August_2022)\n",
    "colnames(September_2022)\n",
    "colnames(October_2022)\n",
    "colnames(November_2022)\n",
    "colnames(December_2022)\n",
    "colnames(January_2023)\n",
    "colnames(February_2023)\n",
    "colnames(March_2023)\n",
    "colnames(April_2023)\n",
    "colnames(May_2023)\n",
    "\n",
    "\n",
    "str(June_2022)\n",
    "str(July_2022)\n",
    "str(August_2022)\n",
    "str(September_2022)\n",
    "str(October_2022)\n",
    "str(November_2022)\n",
    "str(December_2022)\n",
    "str(January_2023)\n",
    "str(February_2023)\n",
    "str(March_2023)\n",
    "str(April_2023)\n",
    "str(May_2023)"
   ]
  },
  {
   "cell_type": "markdown",
   "id": "a9bfb57e",
   "metadata": {
    "papermill": {
     "duration": 0.015725,
     "end_time": "2023-07-18T22:03:02.069660",
     "exception": false,
     "start_time": "2023-07-18T22:03:02.053935",
     "status": "completed"
    },
    "tags": []
   },
   "source": [
    "# Phase 3: Process\n",
    "\n",
    "**Data Integration and Merging:**\n",
    "\n",
    "We have loaded the required R libraries and datasets for our analysis. We have also conducted a thorough inspection of the datasets to ensure compatibility for merging and identified any structural inconsistencies. Moving forward, we will manipulate and merge the datasets to streamline the analysis stage"
   ]
  },
  {
   "cell_type": "code",
   "execution_count": 5,
   "id": "7b27fc68",
   "metadata": {
    "execution": {
     "iopub.execute_input": "2023-07-18T22:03:02.105685Z",
     "iopub.status.busy": "2023-07-18T22:03:02.103806Z",
     "iopub.status.idle": "2023-07-18T22:03:11.874619Z",
     "shell.execute_reply": "2023-07-18T22:03:11.872535Z"
    },
    "papermill": {
     "duration": 9.793113,
     "end_time": "2023-07-18T22:03:11.878677",
     "exception": false,
     "start_time": "2023-07-18T22:03:02.085564",
     "status": "completed"
    },
    "tags": []
   },
   "outputs": [],
   "source": [
    "# Combining all dataframes\n",
    "\n",
    "all_trips <- bind_rows(June_2022,July_2022,August_2022,September_2022,October_2022,November_2022,December_2022,January_2023,February_2023,March_2023,April_2023,May_2023)"
   ]
  },
  {
   "cell_type": "code",
   "execution_count": 6,
   "id": "7d1d2d98",
   "metadata": {
    "_kg_hide-output": true,
    "execution": {
     "iopub.execute_input": "2023-07-18T22:03:11.914183Z",
     "iopub.status.busy": "2023-07-18T22:03:11.912495Z",
     "iopub.status.idle": "2023-07-18T22:03:22.429157Z",
     "shell.execute_reply": "2023-07-18T22:03:22.427005Z"
    },
    "papermill": {
     "duration": 10.538401,
     "end_time": "2023-07-18T22:03:22.432763",
     "exception": false,
     "start_time": "2023-07-18T22:03:11.894362",
     "status": "completed"
    },
    "tags": []
   },
   "outputs": [
    {
     "data": {
      "text/html": [
       "<style>\n",
       ".list-inline {list-style: none; margin:0; padding: 0}\n",
       ".list-inline>li {display: inline-block}\n",
       ".list-inline>li:not(:last-child)::after {content: \"\\00b7\"; padding: 0 .5ex}\n",
       "</style>\n",
       "<ol class=list-inline><li>'ride_id'</li><li>'rideable_type'</li><li>'started_at'</li><li>'ended_at'</li><li>'start_station_name'</li><li>'start_station_id'</li><li>'end_station_name'</li><li>'end_station_id'</li><li>'start_lat'</li><li>'start_lng'</li><li>'end_lat'</li><li>'end_lng'</li><li>'member_casual'</li></ol>\n"
      ],
      "text/latex": [
       "\\begin{enumerate*}\n",
       "\\item 'ride\\_id'\n",
       "\\item 'rideable\\_type'\n",
       "\\item 'started\\_at'\n",
       "\\item 'ended\\_at'\n",
       "\\item 'start\\_station\\_name'\n",
       "\\item 'start\\_station\\_id'\n",
       "\\item 'end\\_station\\_name'\n",
       "\\item 'end\\_station\\_id'\n",
       "\\item 'start\\_lat'\n",
       "\\item 'start\\_lng'\n",
       "\\item 'end\\_lat'\n",
       "\\item 'end\\_lng'\n",
       "\\item 'member\\_casual'\n",
       "\\end{enumerate*}\n"
      ],
      "text/markdown": [
       "1. 'ride_id'\n",
       "2. 'rideable_type'\n",
       "3. 'started_at'\n",
       "4. 'ended_at'\n",
       "5. 'start_station_name'\n",
       "6. 'start_station_id'\n",
       "7. 'end_station_name'\n",
       "8. 'end_station_id'\n",
       "9. 'start_lat'\n",
       "10. 'start_lng'\n",
       "11. 'end_lat'\n",
       "12. 'end_lng'\n",
       "13. 'member_casual'\n",
       "\n",
       "\n"
      ],
      "text/plain": [
       " [1] \"ride_id\"            \"rideable_type\"      \"started_at\"        \n",
       " [4] \"ended_at\"           \"start_station_name\" \"start_station_id\"  \n",
       " [7] \"end_station_name\"   \"end_station_id\"     \"start_lat\"         \n",
       "[10] \"start_lng\"          \"end_lat\"            \"end_lng\"           \n",
       "[13] \"member_casual\"     "
      ]
     },
     "metadata": {},
     "output_type": "display_data"
    },
    {
     "data": {
      "text/html": [
       "5829030"
      ],
      "text/latex": [
       "5829030"
      ],
      "text/markdown": [
       "5829030"
      ],
      "text/plain": [
       "[1] 5829030"
      ]
     },
     "metadata": {},
     "output_type": "display_data"
    },
    {
     "data": {
      "text/html": [
       "<table class=\"dataframe\">\n",
       "<caption>A data.frame: 6 × 13</caption>\n",
       "<thead>\n",
       "\t<tr><th></th><th scope=col>ride_id</th><th scope=col>rideable_type</th><th scope=col>started_at</th><th scope=col>ended_at</th><th scope=col>start_station_name</th><th scope=col>start_station_id</th><th scope=col>end_station_name</th><th scope=col>end_station_id</th><th scope=col>start_lat</th><th scope=col>start_lng</th><th scope=col>end_lat</th><th scope=col>end_lng</th><th scope=col>member_casual</th></tr>\n",
       "\t<tr><th></th><th scope=col>&lt;chr&gt;</th><th scope=col>&lt;chr&gt;</th><th scope=col>&lt;chr&gt;</th><th scope=col>&lt;chr&gt;</th><th scope=col>&lt;chr&gt;</th><th scope=col>&lt;chr&gt;</th><th scope=col>&lt;chr&gt;</th><th scope=col>&lt;chr&gt;</th><th scope=col>&lt;dbl&gt;</th><th scope=col>&lt;dbl&gt;</th><th scope=col>&lt;dbl&gt;</th><th scope=col>&lt;dbl&gt;</th><th scope=col>&lt;chr&gt;</th></tr>\n",
       "</thead>\n",
       "<tbody>\n",
       "\t<tr><th scope=row>1</th><td>600CFD130D0FD2A4</td><td>electric_bike</td><td>2022-06-30 17:27:53</td><td>2022-06-30 17:35:15</td><td></td><td></td><td></td><td></td><td>41.89</td><td>-87.62</td><td>41.91</td><td>-87.62</td><td>casual</td></tr>\n",
       "\t<tr><th scope=row>2</th><td>F5E6B5C1682C6464</td><td>electric_bike</td><td>2022-06-30 18:39:52</td><td>2022-06-30 18:47:28</td><td></td><td></td><td></td><td></td><td>41.91</td><td>-87.62</td><td>41.93</td><td>-87.63</td><td>casual</td></tr>\n",
       "\t<tr><th scope=row>3</th><td>B6EB6D27BAD771D2</td><td>electric_bike</td><td>2022-06-30 11:49:25</td><td>2022-06-30 12:02:54</td><td></td><td></td><td></td><td></td><td>41.91</td><td>-87.65</td><td>41.89</td><td>-87.61</td><td>casual</td></tr>\n",
       "\t<tr><th scope=row>4</th><td>C9C320375DE1D5C6</td><td>electric_bike</td><td>2022-06-30 11:15:25</td><td>2022-06-30 11:19:43</td><td></td><td></td><td></td><td></td><td>41.80</td><td>-87.66</td><td>41.80</td><td>-87.65</td><td>casual</td></tr>\n",
       "\t<tr><th scope=row>5</th><td>56C055851023BE98</td><td>electric_bike</td><td>2022-06-29 23:36:50</td><td>2022-06-29 23:45:17</td><td></td><td></td><td></td><td></td><td>41.91</td><td>-87.63</td><td>41.93</td><td>-87.64</td><td>casual</td></tr>\n",
       "\t<tr><th scope=row>6</th><td>B664188E8163D045</td><td>electric_bike</td><td>2022-06-30 16:42:10</td><td>2022-06-30 16:58:22</td><td></td><td></td><td></td><td></td><td>42.03</td><td>-87.71</td><td>42.06</td><td>-87.73</td><td>casual</td></tr>\n",
       "</tbody>\n",
       "</table>\n"
      ],
      "text/latex": [
       "A data.frame: 6 × 13\n",
       "\\begin{tabular}{r|lllllllllllll}\n",
       "  & ride\\_id & rideable\\_type & started\\_at & ended\\_at & start\\_station\\_name & start\\_station\\_id & end\\_station\\_name & end\\_station\\_id & start\\_lat & start\\_lng & end\\_lat & end\\_lng & member\\_casual\\\\\n",
       "  & <chr> & <chr> & <chr> & <chr> & <chr> & <chr> & <chr> & <chr> & <dbl> & <dbl> & <dbl> & <dbl> & <chr>\\\\\n",
       "\\hline\n",
       "\t1 & 600CFD130D0FD2A4 & electric\\_bike & 2022-06-30 17:27:53 & 2022-06-30 17:35:15 &  &  &  &  & 41.89 & -87.62 & 41.91 & -87.62 & casual\\\\\n",
       "\t2 & F5E6B5C1682C6464 & electric\\_bike & 2022-06-30 18:39:52 & 2022-06-30 18:47:28 &  &  &  &  & 41.91 & -87.62 & 41.93 & -87.63 & casual\\\\\n",
       "\t3 & B6EB6D27BAD771D2 & electric\\_bike & 2022-06-30 11:49:25 & 2022-06-30 12:02:54 &  &  &  &  & 41.91 & -87.65 & 41.89 & -87.61 & casual\\\\\n",
       "\t4 & C9C320375DE1D5C6 & electric\\_bike & 2022-06-30 11:15:25 & 2022-06-30 11:19:43 &  &  &  &  & 41.80 & -87.66 & 41.80 & -87.65 & casual\\\\\n",
       "\t5 & 56C055851023BE98 & electric\\_bike & 2022-06-29 23:36:50 & 2022-06-29 23:45:17 &  &  &  &  & 41.91 & -87.63 & 41.93 & -87.64 & casual\\\\\n",
       "\t6 & B664188E8163D045 & electric\\_bike & 2022-06-30 16:42:10 & 2022-06-30 16:58:22 &  &  &  &  & 42.03 & -87.71 & 42.06 & -87.73 & casual\\\\\n",
       "\\end{tabular}\n"
      ],
      "text/markdown": [
       "\n",
       "A data.frame: 6 × 13\n",
       "\n",
       "| <!--/--> | ride_id &lt;chr&gt; | rideable_type &lt;chr&gt; | started_at &lt;chr&gt; | ended_at &lt;chr&gt; | start_station_name &lt;chr&gt; | start_station_id &lt;chr&gt; | end_station_name &lt;chr&gt; | end_station_id &lt;chr&gt; | start_lat &lt;dbl&gt; | start_lng &lt;dbl&gt; | end_lat &lt;dbl&gt; | end_lng &lt;dbl&gt; | member_casual &lt;chr&gt; |\n",
       "|---|---|---|---|---|---|---|---|---|---|---|---|---|---|\n",
       "| 1 | 600CFD130D0FD2A4 | electric_bike | 2022-06-30 17:27:53 | 2022-06-30 17:35:15 | <!----> | <!----> | <!----> | <!----> | 41.89 | -87.62 | 41.91 | -87.62 | casual |\n",
       "| 2 | F5E6B5C1682C6464 | electric_bike | 2022-06-30 18:39:52 | 2022-06-30 18:47:28 | <!----> | <!----> | <!----> | <!----> | 41.91 | -87.62 | 41.93 | -87.63 | casual |\n",
       "| 3 | B6EB6D27BAD771D2 | electric_bike | 2022-06-30 11:49:25 | 2022-06-30 12:02:54 | <!----> | <!----> | <!----> | <!----> | 41.91 | -87.65 | 41.89 | -87.61 | casual |\n",
       "| 4 | C9C320375DE1D5C6 | electric_bike | 2022-06-30 11:15:25 | 2022-06-30 11:19:43 | <!----> | <!----> | <!----> | <!----> | 41.80 | -87.66 | 41.80 | -87.65 | casual |\n",
       "| 5 | 56C055851023BE98 | electric_bike | 2022-06-29 23:36:50 | 2022-06-29 23:45:17 | <!----> | <!----> | <!----> | <!----> | 41.91 | -87.63 | 41.93 | -87.64 | casual |\n",
       "| 6 | B664188E8163D045 | electric_bike | 2022-06-30 16:42:10 | 2022-06-30 16:58:22 | <!----> | <!----> | <!----> | <!----> | 42.03 | -87.71 | 42.06 | -87.73 | casual |\n",
       "\n"
      ],
      "text/plain": [
       "  ride_id          rideable_type started_at          ended_at           \n",
       "1 600CFD130D0FD2A4 electric_bike 2022-06-30 17:27:53 2022-06-30 17:35:15\n",
       "2 F5E6B5C1682C6464 electric_bike 2022-06-30 18:39:52 2022-06-30 18:47:28\n",
       "3 B6EB6D27BAD771D2 electric_bike 2022-06-30 11:49:25 2022-06-30 12:02:54\n",
       "4 C9C320375DE1D5C6 electric_bike 2022-06-30 11:15:25 2022-06-30 11:19:43\n",
       "5 56C055851023BE98 electric_bike 2022-06-29 23:36:50 2022-06-29 23:45:17\n",
       "6 B664188E8163D045 electric_bike 2022-06-30 16:42:10 2022-06-30 16:58:22\n",
       "  start_station_name start_station_id end_station_name end_station_id start_lat\n",
       "1                                                                     41.89    \n",
       "2                                                                     41.91    \n",
       "3                                                                     41.91    \n",
       "4                                                                     41.80    \n",
       "5                                                                     41.91    \n",
       "6                                                                     42.03    \n",
       "  start_lng end_lat end_lng member_casual\n",
       "1 -87.62    41.91   -87.62  casual       \n",
       "2 -87.62    41.93   -87.63  casual       \n",
       "3 -87.65    41.89   -87.61  casual       \n",
       "4 -87.66    41.80   -87.65  casual       \n",
       "5 -87.63    41.93   -87.64  casual       \n",
       "6 -87.71    42.06   -87.73  casual       "
      ]
     },
     "metadata": {},
     "output_type": "display_data"
    },
    {
     "data": {
      "text/plain": [
       "   ride_id          rideable_type       started_at          ended_at        \n",
       " Length:5829030     Length:5829030     Length:5829030     Length:5829030    \n",
       " Class :character   Class :character   Class :character   Class :character  \n",
       " Mode  :character   Mode  :character   Mode  :character   Mode  :character  \n",
       "                                                                            \n",
       "                                                                            \n",
       "                                                                            \n",
       "                                                                            \n",
       " start_station_name start_station_id   end_station_name   end_station_id    \n",
       " Length:5829030     Length:5829030     Length:5829030     Length:5829030    \n",
       " Class :character   Class :character   Class :character   Class :character  \n",
       " Mode  :character   Mode  :character   Mode  :character   Mode  :character  \n",
       "                                                                            \n",
       "                                                                            \n",
       "                                                                            \n",
       "                                                                            \n",
       "   start_lat       start_lng         end_lat         end_lng      \n",
       " Min.   :41.64   Min.   :-87.87   Min.   : 0.00   Min.   :-88.11  \n",
       " 1st Qu.:41.88   1st Qu.:-87.66   1st Qu.:41.88   1st Qu.:-87.66  \n",
       " Median :41.90   Median :-87.64   Median :41.90   Median :-87.64  \n",
       " Mean   :41.90   Mean   :-87.65   Mean   :41.90   Mean   :-87.65  \n",
       " 3rd Qu.:41.93   3rd Qu.:-87.63   3rd Qu.:41.93   3rd Qu.:-87.63  \n",
       " Max.   :42.07   Max.   :-87.52   Max.   :42.37   Max.   :  0.00  \n",
       "                                  NA's   :5961    NA's   :5961    \n",
       " member_casual     \n",
       " Length:5829030    \n",
       " Class :character  \n",
       " Mode  :character  \n",
       "                   \n",
       "                   \n",
       "                   \n",
       "                   "
      ]
     },
     "metadata": {},
     "output_type": "display_data"
    }
   ],
   "source": [
    "# Inspecting combined dataframe\n",
    "\n",
    "colnames(all_trips)\n",
    "nrow(all_trips)\n",
    "head(all_trips)\n",
    "summary(all_trips)"
   ]
  },
  {
   "cell_type": "code",
   "execution_count": 7,
   "id": "1b5b06e7",
   "metadata": {
    "execution": {
     "iopub.execute_input": "2023-07-18T22:03:22.470618Z",
     "iopub.status.busy": "2023-07-18T22:03:22.468758Z",
     "iopub.status.idle": "2023-07-18T22:03:23.789303Z",
     "shell.execute_reply": "2023-07-18T22:03:23.787349Z"
    },
    "papermill": {
     "duration": 1.342187,
     "end_time": "2023-07-18T22:03:23.791906",
     "exception": false,
     "start_time": "2023-07-18T22:03:22.449719",
     "status": "completed"
    },
    "tags": []
   },
   "outputs": [
    {
     "data": {
      "text/plain": [
       "\n",
       " casual  member \n",
       "2312073 3516957 "
      ]
     },
     "metadata": {},
     "output_type": "display_data"
    }
   ],
   "source": [
    "# To Check all unique values inside the column\n",
    "\n",
    "table(all_trips$member_casual)"
   ]
  },
  {
   "cell_type": "markdown",
   "id": "dbeda72c",
   "metadata": {
    "papermill": {
     "duration": 0.017017,
     "end_time": "2023-07-18T22:03:23.826316",
     "exception": false,
     "start_time": "2023-07-18T22:03:23.809299",
     "status": "completed"
    },
    "tags": []
   },
   "source": [
    "**Data Transformation and Column Addition:**\n",
    "\n",
    "In this section, we will perform various operations to modify the dataset and introduce new columns."
   ]
  },
  {
   "cell_type": "code",
   "execution_count": 8,
   "id": "7ab72e2e",
   "metadata": {
    "execution": {
     "iopub.execute_input": "2023-07-18T22:03:23.865920Z",
     "iopub.status.busy": "2023-07-18T22:03:23.864320Z",
     "iopub.status.idle": "2023-07-18T22:03:52.496611Z",
     "shell.execute_reply": "2023-07-18T22:03:52.494575Z"
    },
    "papermill": {
     "duration": 28.655607,
     "end_time": "2023-07-18T22:03:52.500822",
     "exception": false,
     "start_time": "2023-07-18T22:03:23.845215",
     "status": "completed"
    },
    "tags": []
   },
   "outputs": [],
   "source": [
    "# Splitting for easy aggregation\n",
    "\n",
    "all_trips$date <- as.Date(all_trips$started_at)\n",
    "all_trips$month <- format(as.Date(all_trips$date), \"%m\")\n",
    "all_trips$day <- format(as.Date(all_trips$date), \"%d\")\n",
    "all_trips$year <- format(as.Date(all_trips$date), \"%Y\")\n",
    "all_trips$day_of_week <- format(as.Date(all_trips$date), \"%A\")"
   ]
  },
  {
   "cell_type": "code",
   "execution_count": 9,
   "id": "42d60681",
   "metadata": {
    "execution": {
     "iopub.execute_input": "2023-07-18T22:03:52.540093Z",
     "iopub.status.busy": "2023-07-18T22:03:52.538226Z",
     "iopub.status.idle": "2023-07-18T22:04:24.158376Z",
     "shell.execute_reply": "2023-07-18T22:04:24.156216Z"
    },
    "papermill": {
     "duration": 31.643323,
     "end_time": "2023-07-18T22:04:24.162022",
     "exception": false,
     "start_time": "2023-07-18T22:03:52.518699",
     "status": "completed"
    },
    "tags": []
   },
   "outputs": [],
   "source": [
    "# New Ride Duration Column\n",
    "\n",
    "all_trips$ride_duration <- difftime(all_trips$ended_at,all_trips$started_at)\n",
    "\n",
    "all_trips$ride_duration <- as.numeric(all_trips$ride_duration)"
   ]
  },
  {
   "cell_type": "markdown",
   "id": "f004956d",
   "metadata": {
    "papermill": {
     "duration": 0.017665,
     "end_time": "2023-07-18T22:04:24.197659",
     "exception": false,
     "start_time": "2023-07-18T22:04:24.179994",
     "status": "completed"
    },
    "tags": []
   },
   "source": [
    "**Data Cleaning and Outlier Removal:**\n",
    "\n",
    "This section focuses on improving the data quality and ensuring the accuracy of our analysis.\n",
    "\n",
    "The following steps will be taken:\n",
    "\n",
    "Filtering out observations with negative length of time.\n",
    "Removing data related to test sites and empty stations.\n",
    "Handling observations with missing values (NA data) appropriately."
   ]
  },
  {
   "cell_type": "code",
   "execution_count": 10,
   "id": "3bae37e4",
   "metadata": {
    "execution": {
     "iopub.execute_input": "2023-07-18T22:04:24.236333Z",
     "iopub.status.busy": "2023-07-18T22:04:24.234504Z",
     "iopub.status.idle": "2023-07-18T22:04:34.178574Z",
     "shell.execute_reply": "2023-07-18T22:04:34.176259Z"
    },
    "papermill": {
     "duration": 9.966743,
     "end_time": "2023-07-18T22:04:34.181684",
     "exception": false,
     "start_time": "2023-07-18T22:04:24.214941",
     "status": "completed"
    },
    "tags": []
   },
   "outputs": [],
   "source": [
    "# The dataframe includes a few hundred entries where ride_duration is negative\n",
    "# We will create a new version of the dataframe (v2) since data is being removed\n",
    "\n",
    "all_trips_v2 <- all_trips[!(all_trips$ride_duration < 0),]"
   ]
  },
  {
   "cell_type": "markdown",
   "id": "6d4acb04",
   "metadata": {
    "papermill": {
     "duration": 0.017902,
     "end_time": "2023-07-18T22:04:34.217220",
     "exception": false,
     "start_time": "2023-07-18T22:04:34.199318",
     "status": "completed"
    },
    "tags": []
   },
   "source": [
    "# Phase 4: Analyze\n",
    "In this phase, we will delve into our dataset and leverage various analytical tools to examine user behaviors and identify trends. The objective is to uncover valuable insights that can be utilized for marketing initiatives and identifying monetization opportunities. By analyzing the data, we aim to gain a deeper understanding of user preferences, patterns, and trends that will guide strategic decision-making. This analysis will enable us to target specific user segments, optimize marketing campaigns, and explore avenues for generating revenue within our business model."
   ]
  },
  {
   "cell_type": "code",
   "execution_count": 11,
   "id": "253f5c7c",
   "metadata": {
    "execution": {
     "iopub.execute_input": "2023-07-18T22:04:34.255873Z",
     "iopub.status.busy": "2023-07-18T22:04:34.253967Z",
     "iopub.status.idle": "2023-07-18T22:04:34.701937Z",
     "shell.execute_reply": "2023-07-18T22:04:34.699973Z"
    },
    "papermill": {
     "duration": 0.470566,
     "end_time": "2023-07-18T22:04:34.704811",
     "exception": false,
     "start_time": "2023-07-18T22:04:34.234245",
     "status": "completed"
    },
    "tags": []
   },
   "outputs": [
    {
     "data": {
      "text/html": [
       "<table class=\"dataframe\">\n",
       "<caption>A tibble: 12 × 3</caption>\n",
       "<thead>\n",
       "\t<tr><th scope=col>month</th><th scope=col>Members</th><th scope=col>Casuals</th></tr>\n",
       "\t<tr><th scope=col>&lt;chr&gt;</th><th scope=col>&lt;int&gt;</th><th scope=col>&lt;int&gt;</th></tr>\n",
       "</thead>\n",
       "<tbody>\n",
       "\t<tr><td>01</td><td>150293</td><td> 40008</td></tr>\n",
       "\t<tr><td>02</td><td>147428</td><td> 43016</td></tr>\n",
       "\t<tr><td>03</td><td>196477</td><td> 62201</td></tr>\n",
       "\t<tr><td>04</td><td>279302</td><td>147284</td></tr>\n",
       "\t<tr><td>05</td><td>370639</td><td>234178</td></tr>\n",
       "\t<tr><td>06</td><td>400148</td><td>369044</td></tr>\n",
       "\t<tr><td>07</td><td>417426</td><td>406046</td></tr>\n",
       "\t<tr><td>08</td><td>427000</td><td>358917</td></tr>\n",
       "\t<tr><td>09</td><td>404636</td><td>296694</td></tr>\n",
       "\t<tr><td>10</td><td>349693</td><td>208988</td></tr>\n",
       "\t<tr><td>11</td><td>236947</td><td>100747</td></tr>\n",
       "\t<tr><td>12</td><td>136912</td><td> 44894</td></tr>\n",
       "</tbody>\n",
       "</table>\n"
      ],
      "text/latex": [
       "A tibble: 12 × 3\n",
       "\\begin{tabular}{lll}\n",
       " month & Members & Casuals\\\\\n",
       " <chr> & <int> & <int>\\\\\n",
       "\\hline\n",
       "\t 01 & 150293 &  40008\\\\\n",
       "\t 02 & 147428 &  43016\\\\\n",
       "\t 03 & 196477 &  62201\\\\\n",
       "\t 04 & 279302 & 147284\\\\\n",
       "\t 05 & 370639 & 234178\\\\\n",
       "\t 06 & 400148 & 369044\\\\\n",
       "\t 07 & 417426 & 406046\\\\\n",
       "\t 08 & 427000 & 358917\\\\\n",
       "\t 09 & 404636 & 296694\\\\\n",
       "\t 10 & 349693 & 208988\\\\\n",
       "\t 11 & 236947 & 100747\\\\\n",
       "\t 12 & 136912 &  44894\\\\\n",
       "\\end{tabular}\n"
      ],
      "text/markdown": [
       "\n",
       "A tibble: 12 × 3\n",
       "\n",
       "| month &lt;chr&gt; | Members &lt;int&gt; | Casuals &lt;int&gt; |\n",
       "|---|---|---|\n",
       "| 01 | 150293 |  40008 |\n",
       "| 02 | 147428 |  43016 |\n",
       "| 03 | 196477 |  62201 |\n",
       "| 04 | 279302 | 147284 |\n",
       "| 05 | 370639 | 234178 |\n",
       "| 06 | 400148 | 369044 |\n",
       "| 07 | 417426 | 406046 |\n",
       "| 08 | 427000 | 358917 |\n",
       "| 09 | 404636 | 296694 |\n",
       "| 10 | 349693 | 208988 |\n",
       "| 11 | 236947 | 100747 |\n",
       "| 12 | 136912 |  44894 |\n",
       "\n"
      ],
      "text/plain": [
       "   month Members Casuals\n",
       "1  01    150293   40008 \n",
       "2  02    147428   43016 \n",
       "3  03    196477   62201 \n",
       "4  04    279302  147284 \n",
       "5  05    370639  234178 \n",
       "6  06    400148  369044 \n",
       "7  07    417426  406046 \n",
       "8  08    427000  358917 \n",
       "9  09    404636  296694 \n",
       "10 10    349693  208988 \n",
       "11 11    236947  100747 \n",
       "12 12    136912   44894 "
      ]
     },
     "metadata": {},
     "output_type": "display_data"
    }
   ],
   "source": [
    "# Comparing usage during each month\n",
    "all_trips_v2 %>%\n",
    "    group_by(month) %>%\n",
    "    summarise(Members = sum(member_casual == \"member\"), \n",
    "              Casuals = sum(member_casual == \"casual\")\n",
    "             )"
   ]
  },
  {
   "cell_type": "markdown",
   "id": "bff8580e",
   "metadata": {
    "papermill": {
     "duration": 0.017632,
     "end_time": "2023-07-18T22:04:34.740029",
     "exception": false,
     "start_time": "2023-07-18T22:04:34.722397",
     "status": "completed"
    },
    "tags": []
   },
   "source": [
    "**Insight:** Both Members and Casuals use our service more during summer months"
   ]
  },
  {
   "cell_type": "code",
   "execution_count": 12,
   "id": "d3529235",
   "metadata": {
    "execution": {
     "iopub.execute_input": "2023-07-18T22:04:34.778369Z",
     "iopub.status.busy": "2023-07-18T22:04:34.776649Z",
     "iopub.status.idle": "2023-07-18T22:04:36.218540Z",
     "shell.execute_reply": "2023-07-18T22:04:36.216639Z"
    },
    "papermill": {
     "duration": 1.464219,
     "end_time": "2023-07-18T22:04:36.221311",
     "exception": false,
     "start_time": "2023-07-18T22:04:34.757092",
     "status": "completed"
    },
    "tags": []
   },
   "outputs": [
    {
     "data": {
      "text/plain": [
       "   Min. 1st Qu.  Median    Mean 3rd Qu.    Max. \n",
       "      0     335     591    1123    1057 2483235 "
      ]
     },
     "metadata": {},
     "output_type": "display_data"
    }
   ],
   "source": [
    "# Overview of Mean, Median, Max, Min of \"ride_duration\"\n",
    "summary(all_trips_v2$ride_duration)"
   ]
  },
  {
   "cell_type": "code",
   "execution_count": 13,
   "id": "5a7b3d06",
   "metadata": {
    "execution": {
     "iopub.execute_input": "2023-07-18T22:04:36.259658Z",
     "iopub.status.busy": "2023-07-18T22:04:36.257938Z",
     "iopub.status.idle": "2023-07-18T22:04:36.501342Z",
     "shell.execute_reply": "2023-07-18T22:04:36.499418Z"
    },
    "papermill": {
     "duration": 0.265444,
     "end_time": "2023-07-18T22:04:36.503853",
     "exception": false,
     "start_time": "2023-07-18T22:04:36.238409",
     "status": "completed"
    },
    "tags": []
   },
   "outputs": [
    {
     "data": {
      "text/html": [
       "<table class=\"dataframe\">\n",
       "<caption>A tibble: 2 × 4</caption>\n",
       "<thead>\n",
       "\t<tr><th scope=col>member_casual</th><th scope=col>mean(ride_duration)</th><th scope=col>max(ride_duration)</th><th scope=col>min(ride_duration)</th></tr>\n",
       "\t<tr><th scope=col>&lt;chr&gt;</th><th scope=col>&lt;dbl&gt;</th><th scope=col>&lt;dbl&gt;</th><th scope=col>&lt;dbl&gt;</th></tr>\n",
       "</thead>\n",
       "<tbody>\n",
       "\t<tr><td>casual</td><td>1692.5512</td><td>2483235</td><td>0</td></tr>\n",
       "\t<tr><td>member</td><td> 748.1938</td><td>  93580</td><td>0</td></tr>\n",
       "</tbody>\n",
       "</table>\n"
      ],
      "text/latex": [
       "A tibble: 2 × 4\n",
       "\\begin{tabular}{llll}\n",
       " member\\_casual & mean(ride\\_duration) & max(ride\\_duration) & min(ride\\_duration)\\\\\n",
       " <chr> & <dbl> & <dbl> & <dbl>\\\\\n",
       "\\hline\n",
       "\t casual & 1692.5512 & 2483235 & 0\\\\\n",
       "\t member &  748.1938 &   93580 & 0\\\\\n",
       "\\end{tabular}\n"
      ],
      "text/markdown": [
       "\n",
       "A tibble: 2 × 4\n",
       "\n",
       "| member_casual &lt;chr&gt; | mean(ride_duration) &lt;dbl&gt; | max(ride_duration) &lt;dbl&gt; | min(ride_duration) &lt;dbl&gt; |\n",
       "|---|---|---|---|\n",
       "| casual | 1692.5512 | 2483235 | 0 |\n",
       "| member |  748.1938 |   93580 | 0 |\n",
       "\n"
      ],
      "text/plain": [
       "  member_casual mean(ride_duration) max(ride_duration) min(ride_duration)\n",
       "1 casual        1692.5512           2483235            0                 \n",
       "2 member         748.1938             93580            0                 "
      ]
     },
     "metadata": {},
     "output_type": "display_data"
    }
   ],
   "source": [
    "# Compare members and casual users\n",
    "all_trips_v2 %>%\n",
    "  group_by(member_casual) %>%\n",
    "  summarise(mean(ride_duration),max(ride_duration),min(ride_duration))"
   ]
  },
  {
   "cell_type": "markdown",
   "id": "880783c1",
   "metadata": {
    "papermill": {
     "duration": 0.017666,
     "end_time": "2023-07-18T22:04:36.539224",
     "exception": false,
     "start_time": "2023-07-18T22:04:36.521558",
     "status": "completed"
    },
    "tags": []
   },
   "source": [
    "**Insight**: The analysis reveals distinct patterns in ride durations between casual riders and members, suggesting divergent usage patterns. Casual riders exhibit longer and more variable ride durations, which aligns with the hypothesis that they are more likely to use the service for leisure activities. On the other hand, members demonstrate shorter and more consistent ride durations, implying that they utilize the bikes as a means of regular transportation."
   ]
  },
  {
   "cell_type": "code",
   "execution_count": 14,
   "id": "c0a007ea",
   "metadata": {
    "execution": {
     "iopub.execute_input": "2023-07-18T22:04:36.578679Z",
     "iopub.status.busy": "2023-07-18T22:04:36.576915Z",
     "iopub.status.idle": "2023-07-18T22:04:36.926796Z",
     "shell.execute_reply": "2023-07-18T22:04:36.924336Z"
    },
    "papermill": {
     "duration": 0.37336,
     "end_time": "2023-07-18T22:04:36.929940",
     "exception": false,
     "start_time": "2023-07-18T22:04:36.556580",
     "status": "completed"
    },
    "tags": []
   },
   "outputs": [
    {
     "name": "stderr",
     "output_type": "stream",
     "text": [
      "\u001b[1m\u001b[22m`summarise()` has grouped output by 'member_casual'. You can override using the\n",
      "`.groups` argument.\n"
     ]
    },
    {
     "data": {
      "text/html": [
       "<table class=\"dataframe\">\n",
       "<caption>A grouped_df: 14 × 3</caption>\n",
       "<thead>\n",
       "\t<tr><th scope=col>member_casual</th><th scope=col>day_of_week</th><th scope=col>number_of_rides</th></tr>\n",
       "\t<tr><th scope=col>&lt;chr&gt;</th><th scope=col>&lt;ord&gt;</th><th scope=col>&lt;int&gt;</th></tr>\n",
       "</thead>\n",
       "<tbody>\n",
       "\t<tr><td>casual</td><td>Sunday   </td><td>375613</td></tr>\n",
       "\t<tr><td>casual</td><td>Monday   </td><td>257820</td></tr>\n",
       "\t<tr><td>casual</td><td>Tuesday  </td><td>270962</td></tr>\n",
       "\t<tr><td>casual</td><td>Wednesday</td><td>291902</td></tr>\n",
       "\t<tr><td>casual</td><td>Thursday </td><td>313339</td></tr>\n",
       "\t<tr><td>casual</td><td>Friday   </td><td>346555</td></tr>\n",
       "\t<tr><td>casual</td><td>Saturday </td><td>455826</td></tr>\n",
       "\t<tr><td>member</td><td>Sunday   </td><td>394535</td></tr>\n",
       "\t<tr><td>member</td><td>Monday   </td><td>471393</td></tr>\n",
       "\t<tr><td>member</td><td>Tuesday  </td><td>552529</td></tr>\n",
       "\t<tr><td>member</td><td>Wednesday</td><td>579333</td></tr>\n",
       "\t<tr><td>member</td><td>Thursday </td><td>564900</td></tr>\n",
       "\t<tr><td>member</td><td>Friday   </td><td>501463</td></tr>\n",
       "\t<tr><td>member</td><td>Saturday </td><td>452748</td></tr>\n",
       "</tbody>\n",
       "</table>\n"
      ],
      "text/latex": [
       "A grouped\\_df: 14 × 3\n",
       "\\begin{tabular}{lll}\n",
       " member\\_casual & day\\_of\\_week & number\\_of\\_rides\\\\\n",
       " <chr> & <ord> & <int>\\\\\n",
       "\\hline\n",
       "\t casual & Sunday    & 375613\\\\\n",
       "\t casual & Monday    & 257820\\\\\n",
       "\t casual & Tuesday   & 270962\\\\\n",
       "\t casual & Wednesday & 291902\\\\\n",
       "\t casual & Thursday  & 313339\\\\\n",
       "\t casual & Friday    & 346555\\\\\n",
       "\t casual & Saturday  & 455826\\\\\n",
       "\t member & Sunday    & 394535\\\\\n",
       "\t member & Monday    & 471393\\\\\n",
       "\t member & Tuesday   & 552529\\\\\n",
       "\t member & Wednesday & 579333\\\\\n",
       "\t member & Thursday  & 564900\\\\\n",
       "\t member & Friday    & 501463\\\\\n",
       "\t member & Saturday  & 452748\\\\\n",
       "\\end{tabular}\n"
      ],
      "text/markdown": [
       "\n",
       "A grouped_df: 14 × 3\n",
       "\n",
       "| member_casual &lt;chr&gt; | day_of_week &lt;ord&gt; | number_of_rides &lt;int&gt; |\n",
       "|---|---|---|\n",
       "| casual | Sunday    | 375613 |\n",
       "| casual | Monday    | 257820 |\n",
       "| casual | Tuesday   | 270962 |\n",
       "| casual | Wednesday | 291902 |\n",
       "| casual | Thursday  | 313339 |\n",
       "| casual | Friday    | 346555 |\n",
       "| casual | Saturday  | 455826 |\n",
       "| member | Sunday    | 394535 |\n",
       "| member | Monday    | 471393 |\n",
       "| member | Tuesday   | 552529 |\n",
       "| member | Wednesday | 579333 |\n",
       "| member | Thursday  | 564900 |\n",
       "| member | Friday    | 501463 |\n",
       "| member | Saturday  | 452748 |\n",
       "\n"
      ],
      "text/plain": [
       "   member_casual day_of_week number_of_rides\n",
       "1  casual        Sunday      375613         \n",
       "2  casual        Monday      257820         \n",
       "3  casual        Tuesday     270962         \n",
       "4  casual        Wednesday   291902         \n",
       "5  casual        Thursday    313339         \n",
       "6  casual        Friday      346555         \n",
       "7  casual        Saturday    455826         \n",
       "8  member        Sunday      394535         \n",
       "9  member        Monday      471393         \n",
       "10 member        Tuesday     552529         \n",
       "11 member        Wednesday   579333         \n",
       "12 member        Thursday    564900         \n",
       "13 member        Friday      501463         \n",
       "14 member        Saturday    452748         "
      ]
     },
     "metadata": {},
     "output_type": "display_data"
    }
   ],
   "source": [
    "# Fixing the unordered days of the week\n",
    "all_trips_v2$day_of_week <- ordered(all_trips_v2$day_of_week,levels=c(\"Sunday\",\"Monday\",\"Tuesday\",\"Wednesday\",\"Thursday\",\"Friday\",\"Saturday\"))\n",
    "\n",
    "all_trips_v2 %>%\n",
    "  group_by(member_casual,day_of_week) %>%\n",
    "  summarise(number_of_rides=n())"
   ]
  },
  {
   "cell_type": "markdown",
   "id": "1cea809c",
   "metadata": {
    "papermill": {
     "duration": 0.017582,
     "end_time": "2023-07-18T22:04:36.965048",
     "exception": false,
     "start_time": "2023-07-18T22:04:36.947466",
     "status": "completed"
    },
    "tags": []
   },
   "source": [
    "**Insight:** From the analysis, it is clear that casuals prefer using our service during weekends, where as members prefer using our service during weekdays"
   ]
  },
  {
   "cell_type": "code",
   "execution_count": 15,
   "id": "f3032837",
   "metadata": {
    "execution": {
     "iopub.execute_input": "2023-07-18T22:04:37.004315Z",
     "iopub.status.busy": "2023-07-18T22:04:37.002518Z",
     "iopub.status.idle": "2023-07-18T22:04:37.377186Z",
     "shell.execute_reply": "2023-07-18T22:04:37.375278Z"
    },
    "papermill": {
     "duration": 0.397317,
     "end_time": "2023-07-18T22:04:37.379911",
     "exception": false,
     "start_time": "2023-07-18T22:04:36.982594",
     "status": "completed"
    },
    "tags": []
   },
   "outputs": [
    {
     "data": {
      "text/html": [
       "<table class=\"dataframe\">\n",
       "<caption>A tibble: 2 × 7</caption>\n",
       "<thead>\n",
       "\t<tr><th scope=col>member_casual</th><th scope=col>Electric</th><th scope=col>Classic</th><th scope=col>Docked</th><th scope=col>Classic_Percentage</th><th scope=col>Ebike_Percentage</th><th scope=col>Docked_Percentage</th></tr>\n",
       "\t<tr><th scope=col>&lt;chr&gt;</th><th scope=col>&lt;int&gt;</th><th scope=col>&lt;int&gt;</th><th scope=col>&lt;int&gt;</th><th scope=col>&lt;chr&gt;</th><th scope=col>&lt;chr&gt;</th><th scope=col>&lt;chr&gt;</th></tr>\n",
       "</thead>\n",
       "<tbody>\n",
       "\t<tr><td>casual</td><td>1297064</td><td> 857752</td><td>157201</td><td>14.72%</td><td>22.25%</td><td>2.7%</td></tr>\n",
       "\t<tr><td>member</td><td>1786252</td><td>1730649</td><td>     0</td><td>29.69%</td><td>30.64%</td><td>0%  </td></tr>\n",
       "</tbody>\n",
       "</table>\n"
      ],
      "text/latex": [
       "A tibble: 2 × 7\n",
       "\\begin{tabular}{lllllll}\n",
       " member\\_casual & Electric & Classic & Docked & Classic\\_Percentage & Ebike\\_Percentage & Docked\\_Percentage\\\\\n",
       " <chr> & <int> & <int> & <int> & <chr> & <chr> & <chr>\\\\\n",
       "\\hline\n",
       "\t casual & 1297064 &  857752 & 157201 & 14.72\\% & 22.25\\% & 2.7\\%\\\\\n",
       "\t member & 1786252 & 1730649 &      0 & 29.69\\% & 30.64\\% & 0\\%  \\\\\n",
       "\\end{tabular}\n"
      ],
      "text/markdown": [
       "\n",
       "A tibble: 2 × 7\n",
       "\n",
       "| member_casual &lt;chr&gt; | Electric &lt;int&gt; | Classic &lt;int&gt; | Docked &lt;int&gt; | Classic_Percentage &lt;chr&gt; | Ebike_Percentage &lt;chr&gt; | Docked_Percentage &lt;chr&gt; |\n",
       "|---|---|---|---|---|---|---|\n",
       "| casual | 1297064 |  857752 | 157201 | 14.72% | 22.25% | 2.7% |\n",
       "| member | 1786252 | 1730649 |      0 | 29.69% | 30.64% | 0%   |\n",
       "\n"
      ],
      "text/plain": [
       "  member_casual Electric Classic Docked Classic_Percentage Ebike_Percentage\n",
       "1 casual        1297064   857752 157201 14.72%             22.25%          \n",
       "2 member        1786252  1730649      0 29.69%             30.64%          \n",
       "  Docked_Percentage\n",
       "1 2.7%             \n",
       "2 0%               "
      ]
     },
     "metadata": {},
     "output_type": "display_data"
    }
   ],
   "source": [
    "# Comparing bike types\n",
    "all_trips_v2 %>%\n",
    "    group_by(member_casual) %>%\n",
    "    summarise(Electric = sum(rideable_type == \"electric_bike\"),\n",
    "              Classic = sum(rideable_type == \"classic_bike\"), \n",
    "              Docked = sum(rideable_type == \"docked_bike\"),  \n",
    "              Classic_Percentage = paste0(round(Classic / nrow(all_trips_v2) * 100, 2), \"%\"),\n",
    "              Ebike_Percentage = paste0(round(Electric / nrow(all_trips_v2) * 100, 2), \"%\"),\n",
    "              Docked_Percentage = paste0(round(Docked / nrow(all_trips_v2) * 100, 2), \"%\")\n",
    "             )"
   ]
  },
  {
   "cell_type": "markdown",
   "id": "e62bb154",
   "metadata": {
    "papermill": {
     "duration": 0.01793,
     "end_time": "2023-07-18T22:04:37.415887",
     "exception": false,
     "start_time": "2023-07-18T22:04:37.397957",
     "status": "completed"
    },
    "tags": []
   },
   "source": [
    "**Insight:** Upon analyzing the data, it can be observed that members do not use docked bikes at all. Also, the proportions of classic bikes and electric bikes are relatively balanced for members, with casuals having a clear preference for electric bikes."
   ]
  },
  {
   "cell_type": "markdown",
   "id": "a4c97451",
   "metadata": {
    "papermill": {
     "duration": 0.018163,
     "end_time": "2023-07-18T22:04:37.452025",
     "exception": false,
     "start_time": "2023-07-18T22:04:37.433862",
     "status": "completed"
    },
    "tags": []
   },
   "source": [
    "## Insights summary:\n",
    "\n",
    "1. Both Casuals and Members prefer using services during summer, and customers count drops drastically during winters\n",
    "\n",
    "2. Casual riders take longer and more variable rides for leisure activities, while members prefer shorter and consistent rides for regular transportation.\n",
    "\n",
    "3. Casual rider prefer using services during weekends and Member use services during weekdays\n",
    "\n",
    "4. Targeting casual riders whose ride patterns align with members' can drive annual membership growth through tailored promotions and benefits.\n",
    "\n",
    "5. Casual riders have a preference for electric bikes, whereas Members use both electric bikes and classic bikes with usage being fairly balanced for both types of bike\n",
    "\n",
    "6. Members do not use docked bikes at all"
   ]
  },
  {
   "cell_type": "markdown",
   "id": "26401f1e",
   "metadata": {
    "papermill": {
     "duration": 0.018518,
     "end_time": "2023-07-18T22:04:37.489002",
     "exception": false,
     "start_time": "2023-07-18T22:04:37.470484",
     "status": "completed"
    },
    "tags": []
   },
   "source": [
    "# Phase 5 : Share\n",
    "This phase mainly involves the data visualisations of that support our findings. The viz are created using Power BI"
   ]
  },
  {
   "attachments": {
    "c5b4c258-3a53-4ff8-8e9f-1cddf25c682d.png": {
     "image/png": "[encoded data removed]"
    }
   },
   "cell_type": "markdown",
   "id": "652fcaa8",
   "metadata": {
    "papermill": {
     "duration": 0.017953,
     "end_time": "2023-07-18T22:04:37.525002",
     "exception": false,
     "start_time": "2023-07-18T22:04:37.507049",
     "status": "completed"
    },
    "tags": []
   },
   "source": [
    "1. Month vs Rides\n",
    "\n",
    "![Screenshot (44).png](attachment:c5b4c258-3a53-4ff8-8e9f-1cddf25c682d.png)"
   ]
  },
  {
   "cell_type": "markdown",
   "id": "abc6a769",
   "metadata": {
    "papermill": {
     "duration": 0.018252,
     "end_time": "2023-07-18T22:04:37.562029",
     "exception": false,
     "start_time": "2023-07-18T22:04:37.543777",
     "status": "completed"
    },
    "tags": []
   },
   "source": [
    "**Key Findings:**\n",
    "The peak months of the cyclist service are June, July and August (Summer Months) for both type of customers "
   ]
  },
  {
   "attachments": {
    "d42bbcb8-e643-4ced-97c8-e2918374d88f.png": {
     "image/png": "[encoded data removed]"
    }
   },
   "cell_type": "markdown",
   "id": "441c15ab",
   "metadata": {
    "papermill": {
     "duration": 0.019311,
     "end_time": "2023-07-18T22:04:37.600221",
     "exception": false,
     "start_time": "2023-07-18T22:04:37.580910",
     "status": "completed"
    },
    "tags": []
   },
   "source": [
    "2. Casual Riders vs Day of The Week\n",
    "\n",
    "![Screenshot (45).png](attachment:d42bbcb8-e643-4ced-97c8-e2918374d88f.png)"
   ]
  },
  {
   "cell_type": "markdown",
   "id": "a8870461",
   "metadata": {
    "papermill": {
     "duration": 0.018625,
     "end_time": "2023-07-18T22:04:37.637620",
     "exception": false,
     "start_time": "2023-07-18T22:04:37.618995",
     "status": "completed"
    },
    "tags": []
   },
   "source": [
    "**Key Findings:**\n",
    "Casual Riders cycle mostly on Saturdays and Sundays, with a proclivity towards electric bike"
   ]
  },
  {
   "attachments": {
    "d638f536-032a-46d9-938f-e503818ad3a4.png": {
     "image/png": "[encoded data removed]"
    }
   },
   "cell_type": "markdown",
   "id": "049b9ed7",
   "metadata": {
    "papermill": {
     "duration": 0.019711,
     "end_time": "2023-07-18T22:04:37.675758",
     "exception": false,
     "start_time": "2023-07-18T22:04:37.656047",
     "status": "completed"
    },
    "tags": []
   },
   "source": [
    "3. Members vs Day of The Week\n",
    "\n",
    "![Screenshot (47).png](attachment:d638f536-032a-46d9-938f-e503818ad3a4.png)"
   ]
  },
  {
   "cell_type": "markdown",
   "id": "86637ad7",
   "metadata": {
    "papermill": {
     "duration": 0.018548,
     "end_time": "2023-07-18T22:04:37.713007",
     "exception": false,
     "start_time": "2023-07-18T22:04:37.694459",
     "status": "completed"
    },
    "tags": []
   },
   "source": [
    "**Key Findings:** Members have a predilection for weekdays towards using our bikes. They don't use docked bikes at all"
   ]
  },
  {
   "cell_type": "markdown",
   "id": "53b73cda",
   "metadata": {
    "papermill": {
     "duration": 0.018375,
     "end_time": "2023-07-18T22:04:37.749850",
     "exception": false,
     "start_time": "2023-07-18T22:04:37.731475",
     "status": "completed"
    },
    "tags": []
   },
   "source": [
    "**Phase 6: Act**\n",
    "**Recommendations:** 6 Plans to Convert Casual Riders to Annual Members and Increasing Annual Membership\n",
    "\n",
    "**Commuter Targeted Plan:** Develop a comprehensive plan that specifically targets commuters and emphasizes the cost-saving benefits and incentives of using Cyclistic bikes for daily transportation. Highlight the environmental-conscious aspect of biking as a sustainable and \"green\" lifestyle choice.\n",
    "\n",
    "**Similar Riding Patterns Plan:** Create a targeted plan that focuses on casual riders who exhibit ride patterns similar to annual members. Highlight the benefits of annual membership that align with their riding preferences, such as short, consistent, and efficient bike rides. Customized promotions and tailored messaging can effectively attract these users to become annual members.\n",
    "\n",
    "**Business Sponsorship Plan:** Collaborate with local businesses to form partnerships that sponsor annual memberships for their employees as perk of their comprehensive benefits package. Emphasizing the positive impact on physical and mental health of using Cyclistic bikes, positioning them as a convenient and economical substitute for daily commuting. By promoting these benefits to employees, it can foster a happier and healthier workforce while increasing membership conversions among the employed population with access to enjoyable, eco-friendly and reliable means of transportation.\n",
    "\n",
    "**Seasonal Promotion Plan:** Develop a spring-summer promotion with an early bird special that coincides with the peak bike usage period observed in the data. By offering discounted rates or incentives for early sign-ups, it can encourage casual riders to take advantage of the peak season and consider the benefits of annual membership.\n",
    "\n",
    "**Vibrant City Campaign:** Launch a social media campaign that highlights the fun, leisure, and cultural aspects of the city. Market the Cyclistic bikes as a means to explore and be part of the vibrant city experience. Utilize visually appealing content and user-generated content to engage with potential customers and create a sense of community and excitement around using Cyclistic bikes.\n",
    "\n",
    "**Targeting Popular Routes Plan:** Focus marketing efforts on promoting annual memberships in the most popular routes and areas of the city where bike usage is highest. These routes demonstrate high user awareness and present an opportunity for easier conversion of casual riders to annual members. Targeted promotions and incentives specific to these areas can effectively drive membership conversions and increase annual membership.\n",
    "\n",
    "By implementing these recommendations, Cyclistic can strategically target casual riders, leverage their riding patterns, and create enticing marketing campaigns that appeal to their needs and motivations. This focused approach will lead to increased annual membership conversions, enhanced customer loyalty, and overall growth of the bike-sharing service."
   ]
  }
 ],
 "metadata": {
  "kernelspec": {
   "display_name": "R",
   "language": "R",
   "name": "ir"
  },
  "language_info": {
   "codemirror_mode": "r",
   "file_extension": ".r",
   "mimetype": "text/x-r-source",
   "name": "R",
   "pygments_lexer": "r",
   "version": "4.0.5"
  },
  "papermill": {
   "default_parameters": {},
   "duration": 217.054892,
   "end_time": "2023-07-18T22:04:38.195127",
   "environment_variables": {},
   "exception": null,
   "input_path": "__notebook__.ipynb",
   "output_path": "__notebook__.ipynb",
   "parameters": {},
   "start_time": "2023-07-18T22:01:01.140235",
   "version": "2.4.0"
  }
 },
 "nbformat": 4,
 "nbformat_minor": 5
}
